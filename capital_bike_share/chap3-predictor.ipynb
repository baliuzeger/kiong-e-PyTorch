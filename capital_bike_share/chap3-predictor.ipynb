{
 "cells": [
  {
   "cell_type": "code",
   "execution_count": 724,
   "metadata": {},
   "outputs": [],
   "source": [
    "import numpy as np\n",
    "import pandas as pd\n",
    "import torch\n",
    "import torch.optim as optim\n",
    "from torch import nn as nn\n",
    "import torch.nn.functional as F\n",
    "import matplotlib.pyplot as plt\n",
    "import functools as Fntl\n",
    "from functools import reduce\n",
    "from torch.utils.data import DataLoader\n",
    "from torch.utils.data import Dataset"
   ]
  },
  {
   "cell_type": "code",
   "execution_count": 4,
   "metadata": {},
   "outputs": [
    {
     "name": "stdout",
     "output_type": "stream",
     "text": [
      "2011-capitalbikeshare-tripdata.csv  2011-capitalbikeshare-tripdata.zip\n"
     ]
    }
   ],
   "source": [
    "%ls data/2011"
   ]
  },
  {
   "cell_type": "code",
   "execution_count": 5,
   "metadata": {},
   "outputs": [],
   "source": [
    "tb0 = np.loadtxt(\"data/2011/2011-capitalbikeshare-tripdata.csv\",\n",
    "                 delimiter=\",\", dtype=str)"
   ]
  },
  {
   "cell_type": "code",
   "execution_count": 14,
   "metadata": {},
   "outputs": [],
   "source": [
    "df0 = pd.read_csv(\"data/2011/2011-capitalbikeshare-tripdata.csv\")"
   ]
  },
  {
   "cell_type": "code",
   "execution_count": 15,
   "metadata": {},
   "outputs": [
    {
     "data": {
      "text/html": [
       "<div>\n",
       "<style scoped>\n",
       "    .dataframe tbody tr th:only-of-type {\n",
       "        vertical-align: middle;\n",
       "    }\n",
       "\n",
       "    .dataframe tbody tr th {\n",
       "        vertical-align: top;\n",
       "    }\n",
       "\n",
       "    .dataframe thead th {\n",
       "        text-align: right;\n",
       "    }\n",
       "</style>\n",
       "<table border=\"1\" class=\"dataframe\">\n",
       "  <thead>\n",
       "    <tr style=\"text-align: right;\">\n",
       "      <th></th>\n",
       "      <th>Duration</th>\n",
       "      <th>Start date</th>\n",
       "      <th>End date</th>\n",
       "      <th>Start station number</th>\n",
       "      <th>Start station</th>\n",
       "      <th>End station number</th>\n",
       "      <th>End station</th>\n",
       "      <th>Bike number</th>\n",
       "      <th>Member type</th>\n",
       "    </tr>\n",
       "  </thead>\n",
       "  <tbody>\n",
       "    <tr>\n",
       "      <th>0</th>\n",
       "      <td>3548</td>\n",
       "      <td>2011-01-01 00:01:29</td>\n",
       "      <td>2011-01-01 01:00:37</td>\n",
       "      <td>31620</td>\n",
       "      <td>5th &amp; F St NW</td>\n",
       "      <td>31620</td>\n",
       "      <td>5th &amp; F St NW</td>\n",
       "      <td>W00247</td>\n",
       "      <td>Member</td>\n",
       "    </tr>\n",
       "    <tr>\n",
       "      <th>1</th>\n",
       "      <td>346</td>\n",
       "      <td>2011-01-01 00:02:46</td>\n",
       "      <td>2011-01-01 00:08:32</td>\n",
       "      <td>31105</td>\n",
       "      <td>14th &amp; Harvard St NW</td>\n",
       "      <td>31101</td>\n",
       "      <td>14th &amp; V St NW</td>\n",
       "      <td>W00675</td>\n",
       "      <td>Casual</td>\n",
       "    </tr>\n",
       "    <tr>\n",
       "      <th>2</th>\n",
       "      <td>562</td>\n",
       "      <td>2011-01-01 00:06:13</td>\n",
       "      <td>2011-01-01 00:15:36</td>\n",
       "      <td>31400</td>\n",
       "      <td>Georgia &amp; New Hampshire Ave NW</td>\n",
       "      <td>31104</td>\n",
       "      <td>Adams Mill &amp; Columbia Rd NW</td>\n",
       "      <td>W00357</td>\n",
       "      <td>Member</td>\n",
       "    </tr>\n",
       "    <tr>\n",
       "      <th>3</th>\n",
       "      <td>434</td>\n",
       "      <td>2011-01-01 00:09:21</td>\n",
       "      <td>2011-01-01 00:16:36</td>\n",
       "      <td>31111</td>\n",
       "      <td>10th &amp; U St NW</td>\n",
       "      <td>31503</td>\n",
       "      <td>Florida Ave &amp; R St NW</td>\n",
       "      <td>W00970</td>\n",
       "      <td>Member</td>\n",
       "    </tr>\n",
       "    <tr>\n",
       "      <th>4</th>\n",
       "      <td>233</td>\n",
       "      <td>2011-01-01 00:28:26</td>\n",
       "      <td>2011-01-01 00:32:19</td>\n",
       "      <td>31104</td>\n",
       "      <td>Adams Mill &amp; Columbia Rd NW</td>\n",
       "      <td>31106</td>\n",
       "      <td>Calvert &amp; Biltmore St NW</td>\n",
       "      <td>W00346</td>\n",
       "      <td>Casual</td>\n",
       "    </tr>\n",
       "    <tr>\n",
       "      <th>...</th>\n",
       "      <td>...</td>\n",
       "      <td>...</td>\n",
       "      <td>...</td>\n",
       "      <td>...</td>\n",
       "      <td>...</td>\n",
       "      <td>...</td>\n",
       "      <td>...</td>\n",
       "      <td>...</td>\n",
       "      <td>...</td>\n",
       "    </tr>\n",
       "    <tr>\n",
       "      <th>1226762</th>\n",
       "      <td>300</td>\n",
       "      <td>2011-12-31 23:41:19</td>\n",
       "      <td>2011-12-31 23:46:20</td>\n",
       "      <td>31201</td>\n",
       "      <td>15th &amp; P St NW</td>\n",
       "      <td>31214</td>\n",
       "      <td>17th &amp; Corcoran St NW</td>\n",
       "      <td>W01459</td>\n",
       "      <td>Member</td>\n",
       "    </tr>\n",
       "    <tr>\n",
       "      <th>1226763</th>\n",
       "      <td>387</td>\n",
       "      <td>2011-12-31 23:46:43</td>\n",
       "      <td>2011-12-31 23:53:10</td>\n",
       "      <td>31223</td>\n",
       "      <td>Convention Center / 7th &amp; M St NW</td>\n",
       "      <td>31201</td>\n",
       "      <td>15th &amp; P St NW</td>\n",
       "      <td>W01262</td>\n",
       "      <td>Member</td>\n",
       "    </tr>\n",
       "    <tr>\n",
       "      <th>1226764</th>\n",
       "      <td>261</td>\n",
       "      <td>2011-12-31 23:47:27</td>\n",
       "      <td>2011-12-31 23:51:49</td>\n",
       "      <td>31107</td>\n",
       "      <td>Lamont &amp; Mt Pleasant NW</td>\n",
       "      <td>31602</td>\n",
       "      <td>Park Rd &amp; Holmead Pl NW</td>\n",
       "      <td>W00998</td>\n",
       "      <td>Member</td>\n",
       "    </tr>\n",
       "    <tr>\n",
       "      <th>1226765</th>\n",
       "      <td>2060</td>\n",
       "      <td>2011-12-31 23:55:12</td>\n",
       "      <td>2012-01-01 00:29:33</td>\n",
       "      <td>31205</td>\n",
       "      <td>21st &amp; I St NW</td>\n",
       "      <td>31222</td>\n",
       "      <td>New York Ave &amp; 15th St NW</td>\n",
       "      <td>W00042</td>\n",
       "      <td>Member</td>\n",
       "    </tr>\n",
       "    <tr>\n",
       "      <th>1226766</th>\n",
       "      <td>468</td>\n",
       "      <td>2011-12-31 23:55:56</td>\n",
       "      <td>2012-01-01 00:03:45</td>\n",
       "      <td>31221</td>\n",
       "      <td>18th &amp; M St NW</td>\n",
       "      <td>31111</td>\n",
       "      <td>10th &amp; U St NW</td>\n",
       "      <td>W01319</td>\n",
       "      <td>Member</td>\n",
       "    </tr>\n",
       "  </tbody>\n",
       "</table>\n",
       "<p>1226767 rows × 9 columns</p>\n",
       "</div>"
      ],
      "text/plain": [
       "         Duration           Start date             End date  \\\n",
       "0            3548  2011-01-01 00:01:29  2011-01-01 01:00:37   \n",
       "1             346  2011-01-01 00:02:46  2011-01-01 00:08:32   \n",
       "2             562  2011-01-01 00:06:13  2011-01-01 00:15:36   \n",
       "3             434  2011-01-01 00:09:21  2011-01-01 00:16:36   \n",
       "4             233  2011-01-01 00:28:26  2011-01-01 00:32:19   \n",
       "...           ...                  ...                  ...   \n",
       "1226762       300  2011-12-31 23:41:19  2011-12-31 23:46:20   \n",
       "1226763       387  2011-12-31 23:46:43  2011-12-31 23:53:10   \n",
       "1226764       261  2011-12-31 23:47:27  2011-12-31 23:51:49   \n",
       "1226765      2060  2011-12-31 23:55:12  2012-01-01 00:29:33   \n",
       "1226766       468  2011-12-31 23:55:56  2012-01-01 00:03:45   \n",
       "\n",
       "         Start station number                      Start station  \\\n",
       "0                       31620                      5th & F St NW   \n",
       "1                       31105               14th & Harvard St NW   \n",
       "2                       31400     Georgia & New Hampshire Ave NW   \n",
       "3                       31111                     10th & U St NW   \n",
       "4                       31104        Adams Mill & Columbia Rd NW   \n",
       "...                       ...                                ...   \n",
       "1226762                 31201                     15th & P St NW   \n",
       "1226763                 31223  Convention Center / 7th & M St NW   \n",
       "1226764                 31107            Lamont & Mt Pleasant NW   \n",
       "1226765                 31205                     21st & I St NW   \n",
       "1226766                 31221                     18th & M St NW   \n",
       "\n",
       "         End station number                  End station Bike number  \\\n",
       "0                     31620                5th & F St NW      W00247   \n",
       "1                     31101               14th & V St NW      W00675   \n",
       "2                     31104  Adams Mill & Columbia Rd NW      W00357   \n",
       "3                     31503        Florida Ave & R St NW      W00970   \n",
       "4                     31106     Calvert & Biltmore St NW      W00346   \n",
       "...                     ...                          ...         ...   \n",
       "1226762               31214        17th & Corcoran St NW      W01459   \n",
       "1226763               31201               15th & P St NW      W01262   \n",
       "1226764               31602      Park Rd & Holmead Pl NW      W00998   \n",
       "1226765               31222    New York Ave & 15th St NW      W00042   \n",
       "1226766               31111               10th & U St NW      W01319   \n",
       "\n",
       "        Member type  \n",
       "0            Member  \n",
       "1            Casual  \n",
       "2            Member  \n",
       "3            Member  \n",
       "4            Casual  \n",
       "...             ...  \n",
       "1226762      Member  \n",
       "1226763      Member  \n",
       "1226764      Member  \n",
       "1226765      Member  \n",
       "1226766      Member  \n",
       "\n",
       "[1226767 rows x 9 columns]"
      ]
     },
     "execution_count": 15,
     "metadata": {},
     "output_type": "execute_result"
    }
   ],
   "source": [
    "df0"
   ]
  },
  {
   "cell_type": "code",
   "execution_count": 16,
   "metadata": {},
   "outputs": [],
   "source": [
    "df1 = pd.read_csv(\"data/from_book/hour.csv\")"
   ]
  },
  {
   "cell_type": "code",
   "execution_count": 17,
   "metadata": {},
   "outputs": [
    {
     "data": {
      "text/html": [
       "<div>\n",
       "<style scoped>\n",
       "    .dataframe tbody tr th:only-of-type {\n",
       "        vertical-align: middle;\n",
       "    }\n",
       "\n",
       "    .dataframe tbody tr th {\n",
       "        vertical-align: top;\n",
       "    }\n",
       "\n",
       "    .dataframe thead th {\n",
       "        text-align: right;\n",
       "    }\n",
       "</style>\n",
       "<table border=\"1\" class=\"dataframe\">\n",
       "  <thead>\n",
       "    <tr style=\"text-align: right;\">\n",
       "      <th></th>\n",
       "      <th>instant</th>\n",
       "      <th>dteday</th>\n",
       "      <th>season</th>\n",
       "      <th>yr</th>\n",
       "      <th>mnth</th>\n",
       "      <th>hr</th>\n",
       "      <th>holiday</th>\n",
       "      <th>weekday</th>\n",
       "      <th>workingday</th>\n",
       "      <th>weathersit</th>\n",
       "      <th>temp</th>\n",
       "      <th>atemp</th>\n",
       "      <th>hum</th>\n",
       "      <th>windspeed</th>\n",
       "      <th>casual</th>\n",
       "      <th>registered</th>\n",
       "      <th>cnt</th>\n",
       "    </tr>\n",
       "  </thead>\n",
       "  <tbody>\n",
       "    <tr>\n",
       "      <th>0</th>\n",
       "      <td>1</td>\n",
       "      <td>2011-01-01</td>\n",
       "      <td>1</td>\n",
       "      <td>0</td>\n",
       "      <td>1</td>\n",
       "      <td>0</td>\n",
       "      <td>0</td>\n",
       "      <td>6</td>\n",
       "      <td>0</td>\n",
       "      <td>1</td>\n",
       "      <td>0.24</td>\n",
       "      <td>0.2879</td>\n",
       "      <td>0.81</td>\n",
       "      <td>0.0000</td>\n",
       "      <td>3</td>\n",
       "      <td>13</td>\n",
       "      <td>16</td>\n",
       "    </tr>\n",
       "    <tr>\n",
       "      <th>1</th>\n",
       "      <td>2</td>\n",
       "      <td>2011-01-01</td>\n",
       "      <td>1</td>\n",
       "      <td>0</td>\n",
       "      <td>1</td>\n",
       "      <td>1</td>\n",
       "      <td>0</td>\n",
       "      <td>6</td>\n",
       "      <td>0</td>\n",
       "      <td>1</td>\n",
       "      <td>0.22</td>\n",
       "      <td>0.2727</td>\n",
       "      <td>0.80</td>\n",
       "      <td>0.0000</td>\n",
       "      <td>8</td>\n",
       "      <td>32</td>\n",
       "      <td>40</td>\n",
       "    </tr>\n",
       "    <tr>\n",
       "      <th>2</th>\n",
       "      <td>3</td>\n",
       "      <td>2011-01-01</td>\n",
       "      <td>1</td>\n",
       "      <td>0</td>\n",
       "      <td>1</td>\n",
       "      <td>2</td>\n",
       "      <td>0</td>\n",
       "      <td>6</td>\n",
       "      <td>0</td>\n",
       "      <td>1</td>\n",
       "      <td>0.22</td>\n",
       "      <td>0.2727</td>\n",
       "      <td>0.80</td>\n",
       "      <td>0.0000</td>\n",
       "      <td>5</td>\n",
       "      <td>27</td>\n",
       "      <td>32</td>\n",
       "    </tr>\n",
       "    <tr>\n",
       "      <th>3</th>\n",
       "      <td>4</td>\n",
       "      <td>2011-01-01</td>\n",
       "      <td>1</td>\n",
       "      <td>0</td>\n",
       "      <td>1</td>\n",
       "      <td>3</td>\n",
       "      <td>0</td>\n",
       "      <td>6</td>\n",
       "      <td>0</td>\n",
       "      <td>1</td>\n",
       "      <td>0.24</td>\n",
       "      <td>0.2879</td>\n",
       "      <td>0.75</td>\n",
       "      <td>0.0000</td>\n",
       "      <td>3</td>\n",
       "      <td>10</td>\n",
       "      <td>13</td>\n",
       "    </tr>\n",
       "    <tr>\n",
       "      <th>4</th>\n",
       "      <td>5</td>\n",
       "      <td>2011-01-01</td>\n",
       "      <td>1</td>\n",
       "      <td>0</td>\n",
       "      <td>1</td>\n",
       "      <td>4</td>\n",
       "      <td>0</td>\n",
       "      <td>6</td>\n",
       "      <td>0</td>\n",
       "      <td>1</td>\n",
       "      <td>0.24</td>\n",
       "      <td>0.2879</td>\n",
       "      <td>0.75</td>\n",
       "      <td>0.0000</td>\n",
       "      <td>0</td>\n",
       "      <td>1</td>\n",
       "      <td>1</td>\n",
       "    </tr>\n",
       "    <tr>\n",
       "      <th>...</th>\n",
       "      <td>...</td>\n",
       "      <td>...</td>\n",
       "      <td>...</td>\n",
       "      <td>...</td>\n",
       "      <td>...</td>\n",
       "      <td>...</td>\n",
       "      <td>...</td>\n",
       "      <td>...</td>\n",
       "      <td>...</td>\n",
       "      <td>...</td>\n",
       "      <td>...</td>\n",
       "      <td>...</td>\n",
       "      <td>...</td>\n",
       "      <td>...</td>\n",
       "      <td>...</td>\n",
       "      <td>...</td>\n",
       "      <td>...</td>\n",
       "    </tr>\n",
       "    <tr>\n",
       "      <th>17374</th>\n",
       "      <td>17375</td>\n",
       "      <td>2012-12-31</td>\n",
       "      <td>1</td>\n",
       "      <td>1</td>\n",
       "      <td>12</td>\n",
       "      <td>19</td>\n",
       "      <td>0</td>\n",
       "      <td>1</td>\n",
       "      <td>1</td>\n",
       "      <td>2</td>\n",
       "      <td>0.26</td>\n",
       "      <td>0.2576</td>\n",
       "      <td>0.60</td>\n",
       "      <td>0.1642</td>\n",
       "      <td>11</td>\n",
       "      <td>108</td>\n",
       "      <td>119</td>\n",
       "    </tr>\n",
       "    <tr>\n",
       "      <th>17375</th>\n",
       "      <td>17376</td>\n",
       "      <td>2012-12-31</td>\n",
       "      <td>1</td>\n",
       "      <td>1</td>\n",
       "      <td>12</td>\n",
       "      <td>20</td>\n",
       "      <td>0</td>\n",
       "      <td>1</td>\n",
       "      <td>1</td>\n",
       "      <td>2</td>\n",
       "      <td>0.26</td>\n",
       "      <td>0.2576</td>\n",
       "      <td>0.60</td>\n",
       "      <td>0.1642</td>\n",
       "      <td>8</td>\n",
       "      <td>81</td>\n",
       "      <td>89</td>\n",
       "    </tr>\n",
       "    <tr>\n",
       "      <th>17376</th>\n",
       "      <td>17377</td>\n",
       "      <td>2012-12-31</td>\n",
       "      <td>1</td>\n",
       "      <td>1</td>\n",
       "      <td>12</td>\n",
       "      <td>21</td>\n",
       "      <td>0</td>\n",
       "      <td>1</td>\n",
       "      <td>1</td>\n",
       "      <td>1</td>\n",
       "      <td>0.26</td>\n",
       "      <td>0.2576</td>\n",
       "      <td>0.60</td>\n",
       "      <td>0.1642</td>\n",
       "      <td>7</td>\n",
       "      <td>83</td>\n",
       "      <td>90</td>\n",
       "    </tr>\n",
       "    <tr>\n",
       "      <th>17377</th>\n",
       "      <td>17378</td>\n",
       "      <td>2012-12-31</td>\n",
       "      <td>1</td>\n",
       "      <td>1</td>\n",
       "      <td>12</td>\n",
       "      <td>22</td>\n",
       "      <td>0</td>\n",
       "      <td>1</td>\n",
       "      <td>1</td>\n",
       "      <td>1</td>\n",
       "      <td>0.26</td>\n",
       "      <td>0.2727</td>\n",
       "      <td>0.56</td>\n",
       "      <td>0.1343</td>\n",
       "      <td>13</td>\n",
       "      <td>48</td>\n",
       "      <td>61</td>\n",
       "    </tr>\n",
       "    <tr>\n",
       "      <th>17378</th>\n",
       "      <td>17379</td>\n",
       "      <td>2012-12-31</td>\n",
       "      <td>1</td>\n",
       "      <td>1</td>\n",
       "      <td>12</td>\n",
       "      <td>23</td>\n",
       "      <td>0</td>\n",
       "      <td>1</td>\n",
       "      <td>1</td>\n",
       "      <td>1</td>\n",
       "      <td>0.26</td>\n",
       "      <td>0.2727</td>\n",
       "      <td>0.65</td>\n",
       "      <td>0.1343</td>\n",
       "      <td>12</td>\n",
       "      <td>37</td>\n",
       "      <td>49</td>\n",
       "    </tr>\n",
       "  </tbody>\n",
       "</table>\n",
       "<p>17379 rows × 17 columns</p>\n",
       "</div>"
      ],
      "text/plain": [
       "       instant      dteday  season  yr  mnth  hr  holiday  weekday  \\\n",
       "0            1  2011-01-01       1   0     1   0        0        6   \n",
       "1            2  2011-01-01       1   0     1   1        0        6   \n",
       "2            3  2011-01-01       1   0     1   2        0        6   \n",
       "3            4  2011-01-01       1   0     1   3        0        6   \n",
       "4            5  2011-01-01       1   0     1   4        0        6   \n",
       "...        ...         ...     ...  ..   ...  ..      ...      ...   \n",
       "17374    17375  2012-12-31       1   1    12  19        0        1   \n",
       "17375    17376  2012-12-31       1   1    12  20        0        1   \n",
       "17376    17377  2012-12-31       1   1    12  21        0        1   \n",
       "17377    17378  2012-12-31       1   1    12  22        0        1   \n",
       "17378    17379  2012-12-31       1   1    12  23        0        1   \n",
       "\n",
       "       workingday  weathersit  temp   atemp   hum  windspeed  casual  \\\n",
       "0               0           1  0.24  0.2879  0.81     0.0000       3   \n",
       "1               0           1  0.22  0.2727  0.80     0.0000       8   \n",
       "2               0           1  0.22  0.2727  0.80     0.0000       5   \n",
       "3               0           1  0.24  0.2879  0.75     0.0000       3   \n",
       "4               0           1  0.24  0.2879  0.75     0.0000       0   \n",
       "...           ...         ...   ...     ...   ...        ...     ...   \n",
       "17374           1           2  0.26  0.2576  0.60     0.1642      11   \n",
       "17375           1           2  0.26  0.2576  0.60     0.1642       8   \n",
       "17376           1           1  0.26  0.2576  0.60     0.1642       7   \n",
       "17377           1           1  0.26  0.2727  0.56     0.1343      13   \n",
       "17378           1           1  0.26  0.2727  0.65     0.1343      12   \n",
       "\n",
       "       registered  cnt  \n",
       "0              13   16  \n",
       "1              32   40  \n",
       "2              27   32  \n",
       "3              10   13  \n",
       "4               1    1  \n",
       "...           ...  ...  \n",
       "17374         108  119  \n",
       "17375          81   89  \n",
       "17376          83   90  \n",
       "17377          48   61  \n",
       "17378          37   49  \n",
       "\n",
       "[17379 rows x 17 columns]"
      ]
     },
     "execution_count": 17,
     "metadata": {},
     "output_type": "execute_result"
    }
   ],
   "source": [
    "df1"
   ]
  },
  {
   "cell_type": "code",
   "execution_count": 27,
   "metadata": {},
   "outputs": [
    {
     "data": {
      "text/html": [
       "<div>\n",
       "<style scoped>\n",
       "    .dataframe tbody tr th:only-of-type {\n",
       "        vertical-align: middle;\n",
       "    }\n",
       "\n",
       "    .dataframe tbody tr th {\n",
       "        vertical-align: top;\n",
       "    }\n",
       "\n",
       "    .dataframe thead th {\n",
       "        text-align: right;\n",
       "    }\n",
       "</style>\n",
       "<table border=\"1\" class=\"dataframe\">\n",
       "  <thead>\n",
       "    <tr style=\"text-align: right;\">\n",
       "      <th></th>\n",
       "      <th>instant</th>\n",
       "      <th>dteday</th>\n",
       "      <th>season</th>\n",
       "      <th>yr</th>\n",
       "      <th>mnth</th>\n",
       "      <th>hr</th>\n",
       "      <th>holiday</th>\n",
       "      <th>weekday</th>\n",
       "      <th>workingday</th>\n",
       "      <th>weathersit</th>\n",
       "      <th>temp</th>\n",
       "      <th>atemp</th>\n",
       "      <th>hum</th>\n",
       "      <th>windspeed</th>\n",
       "      <th>casual</th>\n",
       "      <th>registered</th>\n",
       "      <th>cnt</th>\n",
       "    </tr>\n",
       "  </thead>\n",
       "  <tbody>\n",
       "    <tr>\n",
       "      <th>0</th>\n",
       "      <td>1</td>\n",
       "      <td>2011-01-01</td>\n",
       "      <td>1</td>\n",
       "      <td>0</td>\n",
       "      <td>1</td>\n",
       "      <td>0</td>\n",
       "      <td>0</td>\n",
       "      <td>6</td>\n",
       "      <td>0</td>\n",
       "      <td>1</td>\n",
       "      <td>0.24</td>\n",
       "      <td>0.2879</td>\n",
       "      <td>0.81</td>\n",
       "      <td>0.0</td>\n",
       "      <td>3</td>\n",
       "      <td>13</td>\n",
       "      <td>16</td>\n",
       "    </tr>\n",
       "    <tr>\n",
       "      <th>1</th>\n",
       "      <td>2</td>\n",
       "      <td>2011-01-01</td>\n",
       "      <td>1</td>\n",
       "      <td>0</td>\n",
       "      <td>1</td>\n",
       "      <td>1</td>\n",
       "      <td>0</td>\n",
       "      <td>6</td>\n",
       "      <td>0</td>\n",
       "      <td>1</td>\n",
       "      <td>0.22</td>\n",
       "      <td>0.2727</td>\n",
       "      <td>0.80</td>\n",
       "      <td>0.0</td>\n",
       "      <td>8</td>\n",
       "      <td>32</td>\n",
       "      <td>40</td>\n",
       "    </tr>\n",
       "    <tr>\n",
       "      <th>2</th>\n",
       "      <td>3</td>\n",
       "      <td>2011-01-01</td>\n",
       "      <td>1</td>\n",
       "      <td>0</td>\n",
       "      <td>1</td>\n",
       "      <td>2</td>\n",
       "      <td>0</td>\n",
       "      <td>6</td>\n",
       "      <td>0</td>\n",
       "      <td>1</td>\n",
       "      <td>0.22</td>\n",
       "      <td>0.2727</td>\n",
       "      <td>0.80</td>\n",
       "      <td>0.0</td>\n",
       "      <td>5</td>\n",
       "      <td>27</td>\n",
       "      <td>32</td>\n",
       "    </tr>\n",
       "    <tr>\n",
       "      <th>3</th>\n",
       "      <td>4</td>\n",
       "      <td>2011-01-01</td>\n",
       "      <td>1</td>\n",
       "      <td>0</td>\n",
       "      <td>1</td>\n",
       "      <td>3</td>\n",
       "      <td>0</td>\n",
       "      <td>6</td>\n",
       "      <td>0</td>\n",
       "      <td>1</td>\n",
       "      <td>0.24</td>\n",
       "      <td>0.2879</td>\n",
       "      <td>0.75</td>\n",
       "      <td>0.0</td>\n",
       "      <td>3</td>\n",
       "      <td>10</td>\n",
       "      <td>13</td>\n",
       "    </tr>\n",
       "    <tr>\n",
       "      <th>4</th>\n",
       "      <td>5</td>\n",
       "      <td>2011-01-01</td>\n",
       "      <td>1</td>\n",
       "      <td>0</td>\n",
       "      <td>1</td>\n",
       "      <td>4</td>\n",
       "      <td>0</td>\n",
       "      <td>6</td>\n",
       "      <td>0</td>\n",
       "      <td>1</td>\n",
       "      <td>0.24</td>\n",
       "      <td>0.2879</td>\n",
       "      <td>0.75</td>\n",
       "      <td>0.0</td>\n",
       "      <td>0</td>\n",
       "      <td>1</td>\n",
       "      <td>1</td>\n",
       "    </tr>\n",
       "  </tbody>\n",
       "</table>\n",
       "</div>"
      ],
      "text/plain": [
       "   instant      dteday  season  yr  mnth  hr  holiday  weekday  workingday  \\\n",
       "0        1  2011-01-01       1   0     1   0        0        6           0   \n",
       "1        2  2011-01-01       1   0     1   1        0        6           0   \n",
       "2        3  2011-01-01       1   0     1   2        0        6           0   \n",
       "3        4  2011-01-01       1   0     1   3        0        6           0   \n",
       "4        5  2011-01-01       1   0     1   4        0        6           0   \n",
       "\n",
       "   weathersit  temp   atemp   hum  windspeed  casual  registered  cnt  \n",
       "0           1  0.24  0.2879  0.81        0.0       3          13   16  \n",
       "1           1  0.22  0.2727  0.80        0.0       8          32   40  \n",
       "2           1  0.22  0.2727  0.80        0.0       5          27   32  \n",
       "3           1  0.24  0.2879  0.75        0.0       3          10   13  \n",
       "4           1  0.24  0.2879  0.75        0.0       0           1    1  "
      ]
     },
     "execution_count": 27,
     "metadata": {},
     "output_type": "execute_result"
    }
   ],
   "source": [
    "df1.head()"
   ]
  },
  {
   "cell_type": "code",
   "execution_count": 29,
   "metadata": {},
   "outputs": [],
   "source": [
    "counts = df1['cnt'][:50]"
   ]
  },
  {
   "cell_type": "code",
   "execution_count": 32,
   "metadata": {},
   "outputs": [],
   "source": [
    "x = df1['instant'][:50]"
   ]
  },
  {
   "cell_type": "code",
   "execution_count": 34,
   "metadata": {},
   "outputs": [
    {
     "data": {
      "text/plain": [
       "[<matplotlib.lines.Line2D at 0x7fe087870fd0>]"
      ]
     },
     "execution_count": 34,
     "metadata": {},
     "output_type": "execute_result"
    },
    {
     "data": {
      "image/png": "[encoded data removed]",
      "text/plain": [
       "<Figure size 432x288 with 1 Axes>"
      ]
     },
     "metadata": {
      "needs_background": "light"
     },
     "output_type": "display_data"
    }
   ],
   "source": [
    "plt.plot(counts,'o-')"
   ]
  },
  {
   "cell_type": "markdown",
   "metadata": {},
   "source": [
    "### Target unnormalized"
   ]
  },
  {
   "cell_type": "code",
   "execution_count": 162,
   "metadata": {},
   "outputs": [],
   "source": [
    "tgt = torch.tensor(counts)"
   ]
  },
  {
   "cell_type": "code",
   "execution_count": 163,
   "metadata": {},
   "outputs": [
    {
     "data": {
      "text/plain": [
       "tensor([ 16,  40,  32,  13,   1,   1,   2,   3,   8,  14,  36,  56,  84,  94,\n",
       "        106, 110,  93,  67,  35,  37,  36,  34,  28,  39,  17,  17,   9,   6,\n",
       "          3,   2,   1,   8,  20,  53,  70,  93,  75,  59,  74,  76,  65,  53,\n",
       "         30,  22,  31,   9,   8,   5,   2,   1])"
      ]
     },
     "execution_count": 163,
     "metadata": {},
     "output_type": "execute_result"
    }
   ],
   "source": [
    "tgt"
   ]
  },
  {
   "cell_type": "code",
   "execution_count": 164,
   "metadata": {},
   "outputs": [
    {
     "data": {
      "text/plain": [
       "torch.Size([50, 1])"
      ]
     },
     "execution_count": 164,
     "metadata": {},
     "output_type": "execute_result"
    }
   ],
   "source": [
    "tgt = tgt.reshape(50,1)\n",
    "tgt.size()"
   ]
  },
  {
   "cell_type": "code",
   "execution_count": 165,
   "metadata": {
    "collapsed": true,
    "jupyter": {
     "outputs_hidden": true
    }
   },
   "outputs": [
    {
     "data": {
      "text/plain": [
       "tensor([[ 16.],\n",
       "        [ 40.],\n",
       "        [ 32.],\n",
       "        [ 13.],\n",
       "        [  1.],\n",
       "        [  1.],\n",
       "        [  2.],\n",
       "        [  3.],\n",
       "        [  8.],\n",
       "        [ 14.],\n",
       "        [ 36.],\n",
       "        [ 56.],\n",
       "        [ 84.],\n",
       "        [ 94.],\n",
       "        [106.],\n",
       "        [110.],\n",
       "        [ 93.],\n",
       "        [ 67.],\n",
       "        [ 35.],\n",
       "        [ 37.],\n",
       "        [ 36.],\n",
       "        [ 34.],\n",
       "        [ 28.],\n",
       "        [ 39.],\n",
       "        [ 17.],\n",
       "        [ 17.],\n",
       "        [  9.],\n",
       "        [  6.],\n",
       "        [  3.],\n",
       "        [  2.],\n",
       "        [  1.],\n",
       "        [  8.],\n",
       "        [ 20.],\n",
       "        [ 53.],\n",
       "        [ 70.],\n",
       "        [ 93.],\n",
       "        [ 75.],\n",
       "        [ 59.],\n",
       "        [ 74.],\n",
       "        [ 76.],\n",
       "        [ 65.],\n",
       "        [ 53.],\n",
       "        [ 30.],\n",
       "        [ 22.],\n",
       "        [ 31.],\n",
       "        [  9.],\n",
       "        [  8.],\n",
       "        [  5.],\n",
       "        [  2.],\n",
       "        [  1.]])"
      ]
     },
     "execution_count": 165,
     "metadata": {},
     "output_type": "execute_result"
    }
   ],
   "source": [
    "tgt = tgt.float()\n",
    "tgt"
   ]
  },
  {
   "cell_type": "markdown",
   "metadata": {},
   "source": [
    "### normalized Target"
   ]
  },
  {
   "cell_type": "code",
   "execution_count": 247,
   "metadata": {},
   "outputs": [],
   "source": [
    "tgt_n = tgt / 100."
   ]
  },
  {
   "cell_type": "code",
   "execution_count": 248,
   "metadata": {},
   "outputs": [],
   "source": [
    "tgt_n = tgt_n.reshape(50,1)"
   ]
  },
  {
   "cell_type": "code",
   "execution_count": 249,
   "metadata": {
    "collapsed": true,
    "jupyter": {
     "outputs_hidden": true
    }
   },
   "outputs": [
    {
     "data": {
      "text/plain": [
       "tensor([[0.1600],\n",
       "        [0.4000],\n",
       "        [0.3200],\n",
       "        [0.1300],\n",
       "        [0.0100],\n",
       "        [0.0100],\n",
       "        [0.0200],\n",
       "        [0.0300],\n",
       "        [0.0800],\n",
       "        [0.1400],\n",
       "        [0.3600],\n",
       "        [0.5600],\n",
       "        [0.8400],\n",
       "        [0.9400],\n",
       "        [1.0600],\n",
       "        [1.1000],\n",
       "        [0.9300],\n",
       "        [0.6700],\n",
       "        [0.3500],\n",
       "        [0.3700],\n",
       "        [0.3600],\n",
       "        [0.3400],\n",
       "        [0.2800],\n",
       "        [0.3900],\n",
       "        [0.1700],\n",
       "        [0.1700],\n",
       "        [0.0900],\n",
       "        [0.0600],\n",
       "        [0.0300],\n",
       "        [0.0200],\n",
       "        [0.0100],\n",
       "        [0.0800],\n",
       "        [0.2000],\n",
       "        [0.5300],\n",
       "        [0.7000],\n",
       "        [0.9300],\n",
       "        [0.7500],\n",
       "        [0.5900],\n",
       "        [0.7400],\n",
       "        [0.7600],\n",
       "        [0.6500],\n",
       "        [0.5300],\n",
       "        [0.3000],\n",
       "        [0.2200],\n",
       "        [0.3100],\n",
       "        [0.0900],\n",
       "        [0.0800],\n",
       "        [0.0500],\n",
       "        [0.0200],\n",
       "        [0.0100]])"
      ]
     },
     "execution_count": 249,
     "metadata": {},
     "output_type": "execute_result"
    }
   ],
   "source": [
    "tgt_n"
   ]
  },
  {
   "cell_type": "markdown",
   "metadata": {},
   "source": [
    "### unnormalized input"
   ]
  },
  {
   "cell_type": "code",
   "execution_count": 523,
   "metadata": {},
   "outputs": [],
   "source": [
    "inp = torch.tensor([i for i in range(len(x))]).float()"
   ]
  },
  {
   "cell_type": "code",
   "execution_count": 524,
   "metadata": {},
   "outputs": [
    {
     "data": {
      "text/plain": [
       "torch.Size([50, 1])"
      ]
     },
     "execution_count": 524,
     "metadata": {},
     "output_type": "execute_result"
    }
   ],
   "source": [
    "inp = inp.reshape(50,1)\n",
    "inp.size()"
   ]
  },
  {
   "cell_type": "code",
   "execution_count": 168,
   "metadata": {
    "collapsed": true,
    "jupyter": {
     "outputs_hidden": true
    }
   },
   "outputs": [
    {
     "data": {
      "text/plain": [
       "tensor([[ 0.],\n",
       "        [ 1.],\n",
       "        [ 2.],\n",
       "        [ 3.],\n",
       "        [ 4.],\n",
       "        [ 5.],\n",
       "        [ 6.],\n",
       "        [ 7.],\n",
       "        [ 8.],\n",
       "        [ 9.],\n",
       "        [10.],\n",
       "        [11.],\n",
       "        [12.],\n",
       "        [13.],\n",
       "        [14.],\n",
       "        [15.],\n",
       "        [16.],\n",
       "        [17.],\n",
       "        [18.],\n",
       "        [19.],\n",
       "        [20.],\n",
       "        [21.],\n",
       "        [22.],\n",
       "        [23.],\n",
       "        [24.],\n",
       "        [25.],\n",
       "        [26.],\n",
       "        [27.],\n",
       "        [28.],\n",
       "        [29.],\n",
       "        [30.],\n",
       "        [31.],\n",
       "        [32.],\n",
       "        [33.],\n",
       "        [34.],\n",
       "        [35.],\n",
       "        [36.],\n",
       "        [37.],\n",
       "        [38.],\n",
       "        [39.],\n",
       "        [40.],\n",
       "        [41.],\n",
       "        [42.],\n",
       "        [43.],\n",
       "        [44.],\n",
       "        [45.],\n",
       "        [46.],\n",
       "        [47.],\n",
       "        [48.],\n",
       "        [49.]])"
      ]
     },
     "execution_count": 168,
     "metadata": {},
     "output_type": "execute_result"
    }
   ],
   "source": [
    "inp"
   ]
  },
  {
   "cell_type": "markdown",
   "metadata": {},
   "source": [
    "### normalized input"
   ]
  },
  {
   "cell_type": "code",
   "execution_count": 250,
   "metadata": {},
   "outputs": [],
   "source": [
    "inp_n = inp / 50."
   ]
  },
  {
   "cell_type": "code",
   "execution_count": 251,
   "metadata": {
    "collapsed": true,
    "jupyter": {
     "outputs_hidden": true
    }
   },
   "outputs": [
    {
     "data": {
      "text/plain": [
       "tensor([[0.0000],\n",
       "        [0.0200],\n",
       "        [0.0400],\n",
       "        [0.0600],\n",
       "        [0.0800],\n",
       "        [0.1000],\n",
       "        [0.1200],\n",
       "        [0.1400],\n",
       "        [0.1600],\n",
       "        [0.1800],\n",
       "        [0.2000],\n",
       "        [0.2200],\n",
       "        [0.2400],\n",
       "        [0.2600],\n",
       "        [0.2800],\n",
       "        [0.3000],\n",
       "        [0.3200],\n",
       "        [0.3400],\n",
       "        [0.3600],\n",
       "        [0.3800],\n",
       "        [0.4000],\n",
       "        [0.4200],\n",
       "        [0.4400],\n",
       "        [0.4600],\n",
       "        [0.4800],\n",
       "        [0.5000],\n",
       "        [0.5200],\n",
       "        [0.5400],\n",
       "        [0.5600],\n",
       "        [0.5800],\n",
       "        [0.6000],\n",
       "        [0.6200],\n",
       "        [0.6400],\n",
       "        [0.6600],\n",
       "        [0.6800],\n",
       "        [0.7000],\n",
       "        [0.7200],\n",
       "        [0.7400],\n",
       "        [0.7600],\n",
       "        [0.7800],\n",
       "        [0.8000],\n",
       "        [0.8200],\n",
       "        [0.8400],\n",
       "        [0.8600],\n",
       "        [0.8800],\n",
       "        [0.9000],\n",
       "        [0.9200],\n",
       "        [0.9400],\n",
       "        [0.9600],\n",
       "        [0.9800]])"
      ]
     },
     "execution_count": 251,
     "metadata": {},
     "output_type": "execute_result"
    }
   ],
   "source": [
    "inp_n"
   ]
  },
  {
   "cell_type": "code",
   "execution_count": null,
   "metadata": {},
   "outputs": [],
   "source": []
  },
  {
   "cell_type": "code",
   "execution_count": 169,
   "metadata": {},
   "outputs": [],
   "source": [
    "n_h = 10"
   ]
  },
  {
   "cell_type": "code",
   "execution_count": 170,
   "metadata": {},
   "outputs": [],
   "source": [
    "loss_fn = nn.MSELoss()"
   ]
  },
  {
   "cell_type": "markdown",
   "metadata": {},
   "source": [
    "### Test target"
   ]
  },
  {
   "cell_type": "code",
   "execution_count": 512,
   "metadata": {},
   "outputs": [],
   "source": [
    "counts_test = df1['cnt'][50:100]"
   ]
  },
  {
   "cell_type": "code",
   "execution_count": 519,
   "metadata": {},
   "outputs": [],
   "source": [
    "tgt_test = torch.tensor(np.array(counts_test, dtype = float)).reshape(50,1)"
   ]
  },
  {
   "cell_type": "markdown",
   "metadata": {},
   "source": [
    "### Test input"
   ]
  },
  {
   "cell_type": "code",
   "execution_count": 525,
   "metadata": {},
   "outputs": [],
   "source": [
    "inp_test = torch.tensor([i for i in range(50, 100)]).float().reshape(50,1)"
   ]
  },
  {
   "cell_type": "code",
   "execution_count": 527,
   "metadata": {},
   "outputs": [],
   "source": [
    "n_inp_test = inp_test / 50"
   ]
  },
  {
   "cell_type": "code",
   "execution_count": 528,
   "metadata": {
    "collapsed": true,
    "jupyter": {
     "outputs_hidden": true
    }
   },
   "outputs": [
    {
     "data": {
      "text/plain": [
       "tensor([[1.0000],\n",
       "        [1.0200],\n",
       "        [1.0400],\n",
       "        [1.0600],\n",
       "        [1.0800],\n",
       "        [1.1000],\n",
       "        [1.1200],\n",
       "        [1.1400],\n",
       "        [1.1600],\n",
       "        [1.1800],\n",
       "        [1.2000],\n",
       "        [1.2200],\n",
       "        [1.2400],\n",
       "        [1.2600],\n",
       "        [1.2800],\n",
       "        [1.3000],\n",
       "        [1.3200],\n",
       "        [1.3400],\n",
       "        [1.3600],\n",
       "        [1.3800],\n",
       "        [1.4000],\n",
       "        [1.4200],\n",
       "        [1.4400],\n",
       "        [1.4600],\n",
       "        [1.4800],\n",
       "        [1.5000],\n",
       "        [1.5200],\n",
       "        [1.5400],\n",
       "        [1.5600],\n",
       "        [1.5800],\n",
       "        [1.6000],\n",
       "        [1.6200],\n",
       "        [1.6400],\n",
       "        [1.6600],\n",
       "        [1.6800],\n",
       "        [1.7000],\n",
       "        [1.7200],\n",
       "        [1.7400],\n",
       "        [1.7600],\n",
       "        [1.7800],\n",
       "        [1.8000],\n",
       "        [1.8200],\n",
       "        [1.8400],\n",
       "        [1.8600],\n",
       "        [1.8800],\n",
       "        [1.9000],\n",
       "        [1.9200],\n",
       "        [1.9400],\n",
       "        [1.9600],\n",
       "        [1.9800]])"
      ]
     },
     "execution_count": 528,
     "metadata": {},
     "output_type": "execute_result"
    }
   ],
   "source": [
    "n_inp_test"
   ]
  },
  {
   "cell_type": "markdown",
   "metadata": {},
   "source": [
    "### ReLU"
   ]
  },
  {
   "cell_type": "code",
   "execution_count": 234,
   "metadata": {},
   "outputs": [],
   "source": [
    "ln_rate = 0.00003"
   ]
  },
  {
   "cell_type": "code",
   "execution_count": 235,
   "metadata": {},
   "outputs": [],
   "source": [
    "rw1 = torch.randn(1, n_h, requires_grad = True)\n",
    "\n",
    "rb1 = torch.randn(n_h, requires_grad = True)\n",
    "\n",
    "rw2 = torch.randn(n_h, 1, requires_grad = True)\n",
    "\n",
    "rb2 = torch.randn(1, requires_grad = True)"
   ]
  },
  {
   "cell_type": "code",
   "execution_count": 236,
   "metadata": {},
   "outputs": [],
   "source": [
    "r_losses = []"
   ]
  },
  {
   "cell_type": "code",
   "execution_count": 237,
   "metadata": {},
   "outputs": [
    {
     "name": "stdout",
     "output_type": "stream",
     "text": [
      "loss:  tensor(1652.1616, grad_fn=<MseLossBackward0>)\n",
      "loss:  tensor(841.3938, grad_fn=<MseLossBackward0>)\n",
      "loss:  tensor(826.2835, grad_fn=<MseLossBackward0>)\n",
      "loss:  tensor(821.4706, grad_fn=<MseLossBackward0>)\n",
      "loss:  tensor(848.9476, grad_fn=<MseLossBackward0>)\n",
      "loss:  tensor(823.0625, grad_fn=<MseLossBackward0>)\n",
      "loss:  tensor(798.9207, grad_fn=<MseLossBackward0>)\n",
      "loss:  tensor(792.8903, grad_fn=<MseLossBackward0>)\n",
      "loss:  tensor(827.0231, grad_fn=<MseLossBackward0>)\n",
      "loss:  tensor(819.5293, grad_fn=<MseLossBackward0>)\n"
     ]
    }
   ],
   "source": [
    "for i in range(100000):\n",
    "    hidden = F.relu(inp @ rw1 + rb1)\n",
    "    preds = hidden @ rw2 + rb2\n",
    "    loss = loss_fn(preds, tgt)\n",
    "    \n",
    "    loss.backward()\n",
    "    #print(w1.data, '\\n')\n",
    "    rw1.data.add_(- ln_rate * rw1.grad)\n",
    "    rb1.data.add_(- ln_rate * rb1.grad)\n",
    "    rw2.data.add_(- ln_rate * rw2.grad)\n",
    "    rb2.data.add_(- ln_rate * rb2.grad)\n",
    "    #print(w1.grad, '\\n')\n",
    "    #print(w1.data, '\\n')\n",
    "    rw1.grad.zero_()\n",
    "    rb1.grad.zero_()\n",
    "    rw2.grad.zero_()\n",
    "    rb2.grad.zero_()\n",
    "    #print(w1.grad, '\\n\\n')\n",
    "    r_losses.append([loss.detach().numpy()])\n",
    "    if i % 10000 == 0:\n",
    "        print('loss: ', loss)\n",
    "    "
   ]
  },
  {
   "cell_type": "code",
   "execution_count": 238,
   "metadata": {},
   "outputs": [
    {
     "data": {
      "text/plain": [
       "[<matplotlib.lines.Line2D at 0x7fe0b0441880>]"
      ]
     },
     "execution_count": 238,
     "metadata": {},
     "output_type": "execute_result"
    },
    {
     "data": {
      "image/png": "[encoded data removed]",
      "text/plain": [
       "<Figure size 432x288 with 1 Axes>"
      ]
     },
     "metadata": {
      "needs_background": "light"
     },
     "output_type": "display_data"
    }
   ],
   "source": [
    "plt.plot(r_losses)"
   ]
  },
  {
   "cell_type": "code",
   "execution_count": 239,
   "metadata": {},
   "outputs": [],
   "source": [
    "def r_inf():\n",
    "    with torch.no_grad():\n",
    "        hidden = F.relu(inp @ w1 + b1)\n",
    "        preds = hidden @ w2 + b2\n",
    "    return preds"
   ]
  },
  {
   "cell_type": "code",
   "execution_count": 240,
   "metadata": {},
   "outputs": [],
   "source": [
    "r_pred = r_inf()"
   ]
  },
  {
   "cell_type": "code",
   "execution_count": 241,
   "metadata": {
    "collapsed": true,
    "jupyter": {
     "outputs_hidden": true
    }
   },
   "outputs": [
    {
     "data": {
      "text/plain": [
       "tensor([[2096.3901],\n",
       "        [1956.2367],\n",
       "        [1795.0056],\n",
       "        [1618.6134],\n",
       "        [1378.4401],\n",
       "        [1138.2670],\n",
       "        [ 898.0936],\n",
       "        [ 657.9203],\n",
       "        [ 417.7469],\n",
       "        [ 177.5738],\n",
       "        [ -43.5698],\n",
       "        [-221.9474],\n",
       "        [-349.2218],\n",
       "        [-441.3337],\n",
       "        [-533.4454],\n",
       "        [-625.5573],\n",
       "        [-717.6693],\n",
       "        [-809.7811],\n",
       "        [-772.2105],\n",
       "        [-733.4827],\n",
       "        [-694.7547],\n",
       "        [-656.0267],\n",
       "        [-617.2989],\n",
       "        [-578.5710],\n",
       "        [-539.8433],\n",
       "        [-501.1154],\n",
       "        [-462.3874],\n",
       "        [-423.6596],\n",
       "        [-384.9317],\n",
       "        [-346.2038],\n",
       "        [-307.4759],\n",
       "        [-268.7481],\n",
       "        [-230.0204],\n",
       "        [-191.2925],\n",
       "        [-152.5647],\n",
       "        [-113.8367],\n",
       "        [ -75.1088],\n",
       "        [ -36.3810],\n",
       "        [   2.3469],\n",
       "        [  41.0750],\n",
       "        [  79.8023],\n",
       "        [ 118.5305],\n",
       "        [ 157.2584],\n",
       "        [ 195.9861],\n",
       "        [ 234.7139],\n",
       "        [ 273.4419],\n",
       "        [ 312.1696],\n",
       "        [ 350.8973],\n",
       "        [ 389.6255],\n",
       "        [ 428.3536]])"
      ]
     },
     "execution_count": 241,
     "metadata": {},
     "output_type": "execute_result"
    }
   ],
   "source": [
    "r_pred"
   ]
  },
  {
   "cell_type": "code",
   "execution_count": 245,
   "metadata": {},
   "outputs": [
    {
     "data": {
      "image/png": "[encoded data removed]",
      "text/plain": [
       "<Figure size 720x504 with 1 Axes>"
      ]
     },
     "metadata": {
      "needs_background": "light"
     },
     "output_type": "display_data"
    }
   ],
   "source": [
    "plt.figure(figsize = (10, 7))\n",
    "x_data = inp.numpy()\n",
    "pred_data = r_pred.numpy()\n",
    "cnt_plot, = plt.plot(x_data, counts, 'o')\n",
    "pred_plot, = plt.plot(x_data, pred_data, 'o-')\n",
    "plt.legend([cnt_plot, pred_plot],['data', 'Prediction'])\n",
    "plt.show()"
   ]
  },
  {
   "cell_type": "code",
   "execution_count": null,
   "metadata": {},
   "outputs": [],
   "source": []
  },
  {
   "cell_type": "markdown",
   "metadata": {},
   "source": [
    "## sigmoid"
   ]
  },
  {
   "cell_type": "code",
   "execution_count": 205,
   "metadata": {},
   "outputs": [],
   "source": [
    "ln_rate = 0.00003"
   ]
  },
  {
   "cell_type": "code",
   "execution_count": 214,
   "metadata": {},
   "outputs": [],
   "source": [
    "w1 = torch.randn(1, n_h, requires_grad = True)\n",
    "\n",
    "b1 = torch.randn(n_h, requires_grad = True)\n",
    "\n",
    "w2 = torch.randn(n_h, 1, requires_grad = True)\n",
    "\n",
    "b2 = torch.randn(1, requires_grad = True)"
   ]
  },
  {
   "cell_type": "code",
   "execution_count": 215,
   "metadata": {},
   "outputs": [],
   "source": [
    "losses = []"
   ]
  },
  {
   "cell_type": "code",
   "execution_count": 228,
   "metadata": {
    "collapsed": true,
    "jupyter": {
     "outputs_hidden": true
    }
   },
   "outputs": [
    {
     "name": "stderr",
     "output_type": "stream",
     "text": [
      "/Users/balisun/dev-pkgs/miniconda3/envs/PyMooHong/lib/python3.8/site-packages/torch/nn/functional.py:1944: UserWarning: nn.functional.sigmoid is deprecated. Use torch.sigmoid instead.\n",
      "  warnings.warn(\"nn.functional.sigmoid is deprecated. Use torch.sigmoid instead.\")\n"
     ]
    },
    {
     "name": "stdout",
     "output_type": "stream",
     "text": [
      "loss:  tensor(830.7632, grad_fn=<MseLossBackward0>)\n",
      "loss:  tensor(811.4351, grad_fn=<MseLossBackward0>)\n",
      "loss:  tensor(792.3236, grad_fn=<MseLossBackward0>)\n",
      "loss:  tensor(773.7809, grad_fn=<MseLossBackward0>)\n",
      "loss:  tensor(756.3375, grad_fn=<MseLossBackward0>)\n",
      "loss:  tensor(739.9464, grad_fn=<MseLossBackward0>)\n",
      "loss:  tensor(724.5149, grad_fn=<MseLossBackward0>)\n",
      "loss:  tensor(709.9741, grad_fn=<MseLossBackward0>)\n",
      "loss:  tensor(696.2517, grad_fn=<MseLossBackward0>)\n",
      "loss:  tensor(683.2886, grad_fn=<MseLossBackward0>)\n",
      "loss:  tensor(671.0226, grad_fn=<MseLossBackward0>)\n",
      "loss:  tensor(659.4188, grad_fn=<MseLossBackward0>)\n",
      "loss:  tensor(648.4375, grad_fn=<MseLossBackward0>)\n",
      "loss:  tensor(638.0496, grad_fn=<MseLossBackward0>)\n",
      "loss:  tensor(628.2207, grad_fn=<MseLossBackward0>)\n",
      "loss:  tensor(618.9255, grad_fn=<MseLossBackward0>)\n",
      "loss:  tensor(610.1469, grad_fn=<MseLossBackward0>)\n",
      "loss:  tensor(601.8572, grad_fn=<MseLossBackward0>)\n",
      "loss:  tensor(593.9968, grad_fn=<MseLossBackward0>)\n",
      "loss:  tensor(586.5776, grad_fn=<MseLossBackward0>)\n",
      "loss:  tensor(579.5857, grad_fn=<MseLossBackward0>)\n",
      "loss:  tensor(572.9738, grad_fn=<MseLossBackward0>)\n",
      "loss:  tensor(566.7136, grad_fn=<MseLossBackward0>)\n",
      "loss:  tensor(560.8268, grad_fn=<MseLossBackward0>)\n",
      "loss:  tensor(555.2631, grad_fn=<MseLossBackward0>)\n",
      "loss:  tensor(549.9982, grad_fn=<MseLossBackward0>)\n",
      "loss:  tensor(545.0481, grad_fn=<MseLossBackward0>)\n",
      "loss:  tensor(540.3638, grad_fn=<MseLossBackward0>)\n",
      "loss:  tensor(535.9415, grad_fn=<MseLossBackward0>)\n",
      "loss:  tensor(531.7720, grad_fn=<MseLossBackward0>)\n",
      "loss:  tensor(527.8251, grad_fn=<MseLossBackward0>)\n",
      "loss:  tensor(524.1241, grad_fn=<MseLossBackward0>)\n",
      "loss:  tensor(520.5869, grad_fn=<MseLossBackward0>)\n",
      "loss:  tensor(517.2975, grad_fn=<MseLossBackward0>)\n",
      "loss:  tensor(514.1462, grad_fn=<MseLossBackward0>)\n",
      "loss:  tensor(511.2034, grad_fn=<MseLossBackward0>)\n",
      "loss:  tensor(508.3960, grad_fn=<MseLossBackward0>)\n",
      "loss:  tensor(505.7672, grad_fn=<MseLossBackward0>)\n",
      "loss:  tensor(503.2539, grad_fn=<MseLossBackward0>)\n",
      "loss:  tensor(500.9090, grad_fn=<MseLossBackward0>)\n",
      "loss:  tensor(498.6763, grad_fn=<MseLossBackward0>)\n",
      "loss:  tensor(496.5437, grad_fn=<MseLossBackward0>)\n",
      "loss:  tensor(494.5650, grad_fn=<MseLossBackward0>)\n",
      "loss:  tensor(492.6742, grad_fn=<MseLossBackward0>)\n",
      "loss:  tensor(490.8847, grad_fn=<MseLossBackward0>)\n",
      "loss:  tensor(489.1864, grad_fn=<MseLossBackward0>)\n",
      "loss:  tensor(487.5673, grad_fn=<MseLossBackward0>)\n",
      "loss:  tensor(486.0577, grad_fn=<MseLossBackward0>)\n",
      "loss:  tensor(484.6228, grad_fn=<MseLossBackward0>)\n",
      "loss:  tensor(483.2299, grad_fn=<MseLossBackward0>)\n",
      "loss:  tensor(481.9364, grad_fn=<MseLossBackward0>)\n",
      "loss:  tensor(480.6981, grad_fn=<MseLossBackward0>)\n",
      "loss:  tensor(479.5112, grad_fn=<MseLossBackward0>)\n",
      "loss:  tensor(478.3869, grad_fn=<MseLossBackward0>)\n",
      "loss:  tensor(477.3409, grad_fn=<MseLossBackward0>)\n",
      "loss:  tensor(476.3198, grad_fn=<MseLossBackward0>)\n",
      "loss:  tensor(475.3228, grad_fn=<MseLossBackward0>)\n",
      "loss:  tensor(474.3885, grad_fn=<MseLossBackward0>)\n",
      "loss:  tensor(473.5004, grad_fn=<MseLossBackward0>)\n",
      "loss:  tensor(472.6524, grad_fn=<MseLossBackward0>)\n",
      "loss:  tensor(471.8313, grad_fn=<MseLossBackward0>)\n",
      "loss:  tensor(471.0362, grad_fn=<MseLossBackward0>)\n",
      "loss:  tensor(470.3129, grad_fn=<MseLossBackward0>)\n",
      "loss:  tensor(469.6064, grad_fn=<MseLossBackward0>)\n",
      "loss:  tensor(468.9152, grad_fn=<MseLossBackward0>)\n",
      "loss:  tensor(468.2436, grad_fn=<MseLossBackward0>)\n",
      "loss:  tensor(467.5970, grad_fn=<MseLossBackward0>)\n",
      "loss:  tensor(467.0023, grad_fn=<MseLossBackward0>)\n",
      "loss:  tensor(466.4329, grad_fn=<MseLossBackward0>)\n",
      "loss:  tensor(465.8838, grad_fn=<MseLossBackward0>)\n",
      "loss:  tensor(465.3550, grad_fn=<MseLossBackward0>)\n",
      "loss:  tensor(464.8440, grad_fn=<MseLossBackward0>)\n",
      "loss:  tensor(464.3456, grad_fn=<MseLossBackward0>)\n",
      "loss:  tensor(463.8946, grad_fn=<MseLossBackward0>)\n",
      "loss:  tensor(463.4538, grad_fn=<MseLossBackward0>)\n",
      "loss:  tensor(463.0221, grad_fn=<MseLossBackward0>)\n",
      "loss:  tensor(462.5999, grad_fn=<MseLossBackward0>)\n",
      "loss:  tensor(462.1895, grad_fn=<MseLossBackward0>)\n",
      "loss:  tensor(461.7927, grad_fn=<MseLossBackward0>)\n",
      "loss:  tensor(461.4161, grad_fn=<MseLossBackward0>)\n",
      "loss:  tensor(461.0524, grad_fn=<MseLossBackward0>)\n",
      "loss:  tensor(460.6989, grad_fn=<MseLossBackward0>)\n",
      "loss:  tensor(460.3562, grad_fn=<MseLossBackward0>)\n",
      "loss:  tensor(460.0327, grad_fn=<MseLossBackward0>)\n",
      "loss:  tensor(459.7447, grad_fn=<MseLossBackward0>)\n",
      "loss:  tensor(459.4795, grad_fn=<MseLossBackward0>)\n",
      "loss:  tensor(459.2200, grad_fn=<MseLossBackward0>)\n",
      "loss:  tensor(458.9655, grad_fn=<MseLossBackward0>)\n",
      "loss:  tensor(458.7156, grad_fn=<MseLossBackward0>)\n",
      "loss:  tensor(458.4739, grad_fn=<MseLossBackward0>)\n",
      "loss:  tensor(458.2405, grad_fn=<MseLossBackward0>)\n",
      "loss:  tensor(458.0146, grad_fn=<MseLossBackward0>)\n",
      "loss:  tensor(457.7973, grad_fn=<MseLossBackward0>)\n",
      "loss:  tensor(457.5857, grad_fn=<MseLossBackward0>)\n",
      "loss:  tensor(457.3777, grad_fn=<MseLossBackward0>)\n",
      "loss:  tensor(457.1734, grad_fn=<MseLossBackward0>)\n",
      "loss:  tensor(456.9726, grad_fn=<MseLossBackward0>)\n",
      "loss:  tensor(456.7754, grad_fn=<MseLossBackward0>)\n",
      "loss:  tensor(456.5876, grad_fn=<MseLossBackward0>)\n",
      "loss:  tensor(456.4061, grad_fn=<MseLossBackward0>)\n"
     ]
    }
   ],
   "source": [
    "for i in range(1000000):\n",
    "    hidden = F.sigmoid(inp @ w1 + b1)\n",
    "    preds = hidden @ w2 + b2\n",
    "    loss = loss_fn(preds, tgt)\n",
    "    \n",
    "    loss.backward()\n",
    "    #print(w1.data, '\\n')\n",
    "    w1.data.add_(- ln_rate * w1.grad)\n",
    "    b1.data.add_(- ln_rate * b1.grad)\n",
    "    w2.data.add_(- ln_rate * w2.grad)\n",
    "    b2.data.add_(- ln_rate * b2.grad)\n",
    "    #print(w1.grad, '\\n')\n",
    "    #print(w1.data, '\\n')\n",
    "    w1.grad.zero_()\n",
    "    b1.grad.zero_()\n",
    "    w2.grad.zero_()\n",
    "    b2.grad.zero_()\n",
    "    #print(w1.grad, '\\n\\n')\n",
    "    losses.append([loss.detach().numpy()])\n",
    "    if i % 10000 == 0:\n",
    "        print('loss: ', loss)\n",
    "    "
   ]
  },
  {
   "cell_type": "code",
   "execution_count": 229,
   "metadata": {},
   "outputs": [
    {
     "data": {
      "text/plain": [
       "[<matplotlib.lines.Line2D at 0x7fe0a31c60d0>]"
      ]
     },
     "execution_count": 229,
     "metadata": {},
     "output_type": "execute_result"
    },
    {
     "data": {
      "image/png": "[encoded data removed]",
      "text/plain": [
       "<Figure size 432x288 with 1 Axes>"
      ]
     },
     "metadata": {
      "needs_background": "light"
     },
     "output_type": "display_data"
    }
   ],
   "source": [
    "plt.plot(losses)"
   ]
  },
  {
   "cell_type": "code",
   "execution_count": 230,
   "metadata": {},
   "outputs": [],
   "source": [
    "def inf():\n",
    "    with torch.no_grad():\n",
    "        hidden = F.sigmoid(inp @ w1 + b1)\n",
    "        preds = hidden @ w2 + b2\n",
    "    return preds"
   ]
  },
  {
   "cell_type": "code",
   "execution_count": 231,
   "metadata": {},
   "outputs": [],
   "source": [
    "pred = inf()"
   ]
  },
  {
   "cell_type": "code",
   "execution_count": 232,
   "metadata": {
    "collapsed": true,
    "jupyter": {
     "outputs_hidden": true
    }
   },
   "outputs": [
    {
     "data": {
      "text/plain": [
       "tensor([[24.4869],\n",
       "        [31.3404],\n",
       "        [29.5029],\n",
       "        [13.1532],\n",
       "        [ 4.4955],\n",
       "        [ 3.8642],\n",
       "        [ 3.9004],\n",
       "        [ 4.4429],\n",
       "        [ 6.8987],\n",
       "        [15.5293],\n",
       "        [33.9150],\n",
       "        [58.5078],\n",
       "        [82.7232],\n",
       "        [95.1885],\n",
       "        [98.6292],\n",
       "        [98.2824],\n",
       "        [91.3487],\n",
       "        [66.2291],\n",
       "        [40.7571],\n",
       "        [33.4343],\n",
       "        [32.2143],\n",
       "        [32.0328],\n",
       "        [32.0062],\n",
       "        [32.0023],\n",
       "        [32.0017],\n",
       "        [32.0016],\n",
       "        [32.0015],\n",
       "        [32.0015],\n",
       "        [32.0015],\n",
       "        [32.0015],\n",
       "        [32.0015],\n",
       "        [32.0015],\n",
       "        [32.0015],\n",
       "        [32.0015],\n",
       "        [32.0015],\n",
       "        [32.0015],\n",
       "        [32.0015],\n",
       "        [32.0015],\n",
       "        [32.0015],\n",
       "        [32.0015],\n",
       "        [32.0015],\n",
       "        [32.0015],\n",
       "        [32.0015],\n",
       "        [32.0015],\n",
       "        [32.0015],\n",
       "        [32.0015],\n",
       "        [32.0015],\n",
       "        [32.0015],\n",
       "        [32.0015],\n",
       "        [32.0015]])"
      ]
     },
     "execution_count": 232,
     "metadata": {},
     "output_type": "execute_result"
    }
   ],
   "source": [
    "pred"
   ]
  },
  {
   "cell_type": "code",
   "execution_count": 244,
   "metadata": {},
   "outputs": [
    {
     "data": {
      "image/png": "[encoded data removed]",
      "text/plain": [
       "<Figure size 720x504 with 1 Axes>"
      ]
     },
     "metadata": {
      "needs_background": "light"
     },
     "output_type": "display_data"
    }
   ],
   "source": [
    "plt.figure(figsize = (10, 7))\n",
    "x_data = inp.numpy()\n",
    "pred_data = pred.numpy()\n",
    "cnt_plot, = plt.plot(x_data, counts, 'o')\n",
    "pred_plot, = plt.plot(x_data, pred_data, 'o-')\n",
    "plt.legend([cnt_plot, pred_plot],['data', 'Prediction'])\n",
    "plt.show()"
   ]
  },
  {
   "cell_type": "code",
   "execution_count": null,
   "metadata": {},
   "outputs": [],
   "source": []
  },
  {
   "cell_type": "code",
   "execution_count": null,
   "metadata": {},
   "outputs": [],
   "source": []
  },
  {
   "cell_type": "markdown",
   "metadata": {},
   "source": [
    "### ReLU - normalized"
   ]
  },
  {
   "cell_type": "code",
   "execution_count": 382,
   "metadata": {},
   "outputs": [],
   "source": [
    "nrw1 = torch.randn(1, n_h, requires_grad = True)\n",
    "\n",
    "nrb1 = torch.randn(n_h, requires_grad = True)\n",
    "\n",
    "nrw2 = torch.randn(n_h, 1, requires_grad = True)\n",
    "\n",
    "nrb2 = torch.randn(1, requires_grad = True)"
   ]
  },
  {
   "cell_type": "code",
   "execution_count": 383,
   "metadata": {},
   "outputs": [],
   "source": [
    "nr_losses = []"
   ]
  },
  {
   "cell_type": "code",
   "execution_count": 384,
   "metadata": {},
   "outputs": [],
   "source": [
    "ln_rate = 0.9"
   ]
  },
  {
   "cell_type": "code",
   "execution_count": 385,
   "metadata": {},
   "outputs": [
    {
     "name": "stdout",
     "output_type": "stream",
     "text": [
      "loss:  tensor(6.7685, grad_fn=<MseLossBackward0>)\n",
      "loss:  tensor(0.1011, grad_fn=<MseLossBackward0>)\n",
      "loss:  tensor(0.1011, grad_fn=<MseLossBackward0>)\n",
      "loss:  tensor(0.1011, grad_fn=<MseLossBackward0>)\n",
      "loss:  tensor(0.1011, grad_fn=<MseLossBackward0>)\n",
      "loss:  tensor(0.1011, grad_fn=<MseLossBackward0>)\n",
      "loss:  tensor(0.1011, grad_fn=<MseLossBackward0>)\n",
      "loss:  tensor(0.1011, grad_fn=<MseLossBackward0>)\n",
      "loss:  tensor(0.1011, grad_fn=<MseLossBackward0>)\n",
      "loss:  tensor(0.1011, grad_fn=<MseLossBackward0>)\n"
     ]
    }
   ],
   "source": [
    "for i in range(100000):\n",
    "    hidden = F.relu(inp_n @ nrw1 + nrb1)\n",
    "    preds = hidden @ nrw2 + nrb2\n",
    "    loss = loss_fn(preds, tgt_n)\n",
    "    \n",
    "    loss.backward()\n",
    "    #print(w1.data, '\\n')\n",
    "    nrw1.data.add_(- ln_rate * nrw1.grad)\n",
    "    nrb1.data.add_(- ln_rate * nrb1.grad)\n",
    "    nrw2.data.add_(- ln_rate * nrw2.grad)\n",
    "    nrb2.data.add_(- ln_rate * nrb2.grad)\n",
    "    #print(w1.grad, '\\n')\n",
    "    #print(w1.data, '\\n')\n",
    "    nrw1.grad.zero_()\n",
    "    nrb1.grad.zero_()\n",
    "    nrw2.grad.zero_()\n",
    "    nrb2.grad.zero_()\n",
    "    #print(w1.grad, '\\n\\n')\n",
    "    nr_losses.append([loss.detach().numpy()])\n",
    "    if i % 10000 == 0:\n",
    "        print('loss: ', loss)\n",
    "    "
   ]
  },
  {
   "cell_type": "code",
   "execution_count": 386,
   "metadata": {},
   "outputs": [
    {
     "data": {
      "text/plain": [
       "[<matplotlib.lines.Line2D at 0x7fe0d9500e50>]"
      ]
     },
     "execution_count": 386,
     "metadata": {},
     "output_type": "execute_result"
    },
    {
     "data": {
      "image/png": "[encoded data removed]",
      "text/plain": [
       "<Figure size 432x288 with 1 Axes>"
      ]
     },
     "metadata": {
      "needs_background": "light"
     },
     "output_type": "display_data"
    }
   ],
   "source": [
    "plt.plot(nr_losses)"
   ]
  },
  {
   "cell_type": "code",
   "execution_count": 387,
   "metadata": {},
   "outputs": [],
   "source": [
    "def nr_inf():\n",
    "    with torch.no_grad():\n",
    "        hidden = F.relu(inp_n @ nrw1 + nrb1)\n",
    "        preds = hidden @ nrw2 + nrb2\n",
    "    return preds * 100."
   ]
  },
  {
   "cell_type": "code",
   "execution_count": 388,
   "metadata": {},
   "outputs": [],
   "source": [
    "nr_pred = nr_inf()"
   ]
  },
  {
   "cell_type": "code",
   "execution_count": 389,
   "metadata": {},
   "outputs": [
    {
     "data": {
      "image/png": "[encoded data removed]",
      "text/plain": [
       "<Figure size 720x504 with 1 Axes>"
      ]
     },
     "metadata": {
      "needs_background": "light"
     },
     "output_type": "display_data"
    }
   ],
   "source": [
    "plt.figure(figsize = (10, 7))\n",
    "x_data = inp.numpy()\n",
    "pred_data = nr_pred.numpy()\n",
    "cnt_plot, = plt.plot(x_data, counts, 'o')\n",
    "pred_plot, = plt.plot(x_data, pred_data, 'o-')\n",
    "plt.legend([cnt_plot, pred_plot],['data', 'Prediction'])\n",
    "plt.show()"
   ]
  },
  {
   "cell_type": "code",
   "execution_count": null,
   "metadata": {},
   "outputs": [],
   "source": []
  },
  {
   "cell_type": "markdown",
   "metadata": {},
   "source": [
    "### Sigmoid - normalized"
   ]
  },
  {
   "cell_type": "code",
   "execution_count": 496,
   "metadata": {},
   "outputs": [],
   "source": [
    "nsw1 = torch.randn(1, n_h, requires_grad = True)\n",
    "\n",
    "nsb1 = torch.randn(n_h, requires_grad = True)\n",
    "\n",
    "nsw2 = torch.randn(n_h, 1, requires_grad = True)\n",
    "\n",
    "#nsb2 = torch.randn(1, requires_grad = True)"
   ]
  },
  {
   "cell_type": "code",
   "execution_count": 497,
   "metadata": {},
   "outputs": [],
   "source": [
    "def ns_inf():\n",
    "    with torch.no_grad():\n",
    "        hidden = torch.sigmoid(inp_n @ nsw1 + nsb1)\n",
    "        preds = hidden @ nsw2\n",
    "        #preds = hidden @ nsw2 + nsb2\n",
    "    return preds * 100."
   ]
  },
  {
   "cell_type": "code",
   "execution_count": 498,
   "metadata": {},
   "outputs": [],
   "source": [
    "ns_losses = []"
   ]
  },
  {
   "cell_type": "code",
   "execution_count": 499,
   "metadata": {},
   "outputs": [],
   "source": [
    "ln_rate = 0.9999"
   ]
  },
  {
   "cell_type": "code",
   "execution_count": 508,
   "metadata": {
    "collapsed": true,
    "jupyter": {
     "outputs_hidden": true
    }
   },
   "outputs": [
    {
     "name": "stdout",
     "output_type": "stream",
     "text": [
      "loss:  0.06918203085660934\n",
      "loss:  0.06911678612232208\n",
      "loss:  0.06905903667211533\n",
      "loss:  0.06900764256715775\n",
      "loss:  0.06896164268255234\n",
      "loss:  0.06892023235559464\n",
      "loss:  0.06888272613286972\n",
      "loss:  0.06884918361902237\n",
      "loss:  0.06881830096244812\n",
      "loss:  0.06878995150327682\n",
      "loss:  0.06876429170370102\n",
      "loss:  0.06874019652605057\n",
      "loss:  0.06871847808361053\n",
      "loss:  0.06869800388813019\n",
      "loss:  0.06867916136980057\n",
      "loss:  0.06866174936294556\n",
      "loss:  0.06864503026008606\n",
      "loss:  0.06863007694482803\n",
      "loss:  0.0686158686876297\n",
      "loss:  0.06860221177339554\n",
      "loss:  0.06858977675437927\n",
      "loss:  0.0685783103108406\n",
      "loss:  0.0685671791434288\n",
      "loss:  0.06855638325214386\n",
      "loss:  0.0685465931892395\n",
      "loss:  0.06853750348091125\n",
      "loss:  0.0685286745429039\n",
      "loss:  0.06852004677057266\n",
      "loss:  0.06851168721914291\n",
      "loss:  0.0685042068362236\n",
      "loss:  0.06849741190671921\n",
      "loss:  0.06849077343940735\n",
      "loss:  0.06848429888486862\n",
      "loss:  0.06847795844078064\n",
      "loss:  0.06847178936004639\n",
      "loss:  0.06846587359905243\n",
      "loss:  0.06846079975366592\n",
      "loss:  0.06845585256814957\n",
      "loss:  0.06845100224018097\n",
      "loss:  0.06844625622034073\n",
      "loss:  0.06844213604927063\n",
      "loss:  0.06843829900026321\n",
      "loss:  0.06843453645706177\n",
      "loss:  0.06843086332082748\n",
      "loss:  0.06842740625143051\n",
      "loss:  0.06842400878667831\n",
      "loss:  0.0684206560254097\n",
      "loss:  0.06841737776994705\n",
      "loss:  0.06841415166854858\n",
      "loss:  0.06841098517179489\n",
      "loss:  0.06840788573026657\n",
      "loss:  0.06840484589338303\n",
      "loss:  0.06840184330940247\n",
      "loss:  0.06839890778064728\n",
      "loss:  0.06839601695537567\n",
      "loss:  0.06839319318532944\n",
      "loss:  0.06839040666818619\n",
      "loss:  0.06838768720626831\n",
      "loss:  0.06838500499725342\n",
      "loss:  0.0683823898434639\n",
      "loss:  0.06837982684373856\n",
      "loss:  0.0683772936463356\n",
      "loss:  0.06837483495473862\n",
      "loss:  0.06837241351604462\n",
      "loss:  0.06837030500173569\n",
      "loss:  0.06836870312690735\n",
      "loss:  0.06836728006601334\n",
      "loss:  0.06836587190628052\n",
      "loss:  0.06836448609828949\n",
      "loss:  0.06836321949958801\n",
      "loss:  0.06836199015378952\n",
      "loss:  0.06836076825857162\n",
      "loss:  0.06835956126451492\n",
      "loss:  0.06835836172103882\n",
      "loss:  0.06835717707872391\n",
      "loss:  0.06835601478815079\n",
      "loss:  0.06835486739873886\n",
      "loss:  0.06835371255874634\n",
      "loss:  0.0683525949716568\n",
      "loss:  0.06835146248340607\n",
      "loss:  0.06835035979747772\n",
      "loss:  0.06834927201271057\n",
      "loss:  0.06834818422794342\n",
      "loss:  0.06834711134433746\n",
      "loss:  0.0683460682630539\n",
      "loss:  0.06834501773118973\n",
      "loss:  0.06834398210048676\n",
      "loss:  0.06834296137094498\n",
      "loss:  0.0683419406414032\n",
      "loss:  0.0683409571647644\n",
      "loss:  0.06833996623754501\n",
      "loss:  0.06833899766206741\n",
      "loss:  0.06833804398775101\n",
      "loss:  0.0683370903134346\n",
      "loss:  0.06833614408969879\n",
      "loss:  0.06833520531654358\n",
      "loss:  0.06833429634571075\n",
      "loss:  0.06833339482545853\n",
      "loss:  0.06833250820636749\n",
      "loss:  0.06833162903785706\n"
     ]
    }
   ],
   "source": [
    "for i in range(1000000):\n",
    "    hidden = torch.sigmoid(inp_n @ nsw1 + nsb1)\n",
    "    #preds = hidden @ nsw2 + nsb2\n",
    "    preds = hidden @ nsw2\n",
    "    loss = loss_fn(preds, tgt_n)\n",
    "    \n",
    "    loss.backward()\n",
    "    #print(w1.data, '\\n')\n",
    "    nsw1.data.add_(- ln_rate * nsw1.grad)\n",
    "    nsb1.data.add_(- ln_rate * nsb1.grad)\n",
    "    nsw2.data.add_(- ln_rate * nsw2.grad)\n",
    "    #nsb2.data.add_(- ln_rate * nsb2.grad)\n",
    "    #print(w1.grad, '\\n')\n",
    "    #print(w1.data, '\\n')\n",
    "    nsw1.grad.zero_()\n",
    "    nsb1.grad.zero_()\n",
    "    nsw2.grad.zero_()\n",
    "    #nsb2.grad.zero_()\n",
    "    #print(w1.grad, '\\n\\n')\n",
    "    ns_losses.append([loss.detach().numpy()])\n",
    "    if i % 10000 == 0:\n",
    "        print('loss: ', str(loss.item()))\n",
    "    "
   ]
  },
  {
   "cell_type": "code",
   "execution_count": 509,
   "metadata": {},
   "outputs": [
    {
     "data": {
      "text/plain": [
       "[<matplotlib.lines.Line2D at 0x7fe0d7871160>]"
      ]
     },
     "execution_count": 509,
     "metadata": {},
     "output_type": "execute_result"
    },
    {
     "data": {
      "image/png": "[encoded data removed]",
      "text/plain": [
       "<Figure size 432x288 with 1 Axes>"
      ]
     },
     "metadata": {
      "needs_background": "light"
     },
     "output_type": "display_data"
    }
   ],
   "source": [
    "plt.plot(ns_losses)"
   ]
  },
  {
   "cell_type": "code",
   "execution_count": 510,
   "metadata": {},
   "outputs": [],
   "source": [
    "ns_pred = ns_inf()"
   ]
  },
  {
   "cell_type": "code",
   "execution_count": 511,
   "metadata": {},
   "outputs": [
    {
     "data": {
      "image/png": "[encoded data removed]",
      "text/plain": [
       "<Figure size 720x504 with 1 Axes>"
      ]
     },
     "metadata": {
      "needs_background": "light"
     },
     "output_type": "display_data"
    }
   ],
   "source": [
    "plt.figure(figsize = (10, 7))\n",
    "x_data = inp.numpy()\n",
    "pred_data = ns_pred.numpy()\n",
    "cnt_plot, = plt.plot(x_data, counts, 'o')\n",
    "pred_plot, = plt.plot(x_data, pred_data, 'o-')\n",
    "plt.legend([cnt_plot, pred_plot],['data', 'Prediction'])\n",
    "plt.show()"
   ]
  },
  {
   "cell_type": "code",
   "execution_count": null,
   "metadata": {},
   "outputs": [],
   "source": []
  },
  {
   "cell_type": "code",
   "execution_count": null,
   "metadata": {},
   "outputs": [],
   "source": []
  },
  {
   "cell_type": "markdown",
   "metadata": {},
   "source": [
    "### Sigmoid - normalize only input, not target"
   ]
  },
  {
   "cell_type": "code",
   "execution_count": 434,
   "metadata": {},
   "outputs": [],
   "source": [
    "n1sw1 = torch.randn(1, n_h, requires_grad = True)\n",
    "\n",
    "n1sb1 = torch.randn(n_h, requires_grad = True)\n",
    "\n",
    "n1sw2 = torch.randn(n_h, 1, requires_grad = True)\n",
    "\n",
    "n1sb2 = torch.randn(1, requires_grad = True)"
   ]
  },
  {
   "cell_type": "code",
   "execution_count": 435,
   "metadata": {},
   "outputs": [],
   "source": [
    "def n1s_inf():\n",
    "    with torch.no_grad():\n",
    "        hidden = torch.sigmoid(inp_n @ n1sw1 + n1sb1)\n",
    "        preds = hidden @ n1sw2 + n1sb2\n",
    "    return preds"
   ]
  },
  {
   "cell_type": "code",
   "execution_count": 436,
   "metadata": {},
   "outputs": [],
   "source": [
    "n1s_losses = []"
   ]
  },
  {
   "cell_type": "code",
   "execution_count": 437,
   "metadata": {},
   "outputs": [],
   "source": [
    "ln_rate = 0.001"
   ]
  },
  {
   "cell_type": "code",
   "execution_count": 438,
   "metadata": {},
   "outputs": [
    {
     "name": "stdout",
     "output_type": "stream",
     "text": [
      "loss:  2255.35693359375\n",
      "loss:  935.5987548828125\n",
      "loss:  668.9784545898438\n",
      "loss:  492.6121826171875\n",
      "loss:  421.555419921875\n",
      "loss:  231.35623168945312\n",
      "loss:  134.81552124023438\n",
      "loss:  104.59893798828125\n",
      "loss:  79.43688201904297\n",
      "loss:  59.13417053222656\n"
     ]
    }
   ],
   "source": [
    "for i in range(100000):\n",
    "    hidden = torch.sigmoid(inp_n @ n1sw1 + n1sb1)\n",
    "    preds = hidden @ n1sw2 + n1sb2\n",
    "    loss = loss_fn(preds, tgt)\n",
    "    \n",
    "    loss.backward()\n",
    "    #print(w1.data, '\\n')\n",
    "    n1sw1.data.add_(- ln_rate * n1sw1.grad)\n",
    "    n1sb1.data.add_(- ln_rate * n1sb1.grad)\n",
    "    n1sw2.data.add_(- ln_rate * n1sw2.grad)\n",
    "    n1sb2.data.add_(- ln_rate * n1sb2.grad)\n",
    "    #print(w1.grad, '\\n')\n",
    "    #print(w1.data, '\\n')\n",
    "    n1sw1.grad.zero_()\n",
    "    n1sb1.grad.zero_()\n",
    "    n1sw2.grad.zero_()\n",
    "    n1sb2.grad.zero_()\n",
    "    #print(w1.grad, '\\n\\n')\n",
    "    n1s_losses.append([loss.detach().numpy()])\n",
    "    if i % 10000 == 0:\n",
    "        print('loss: ', str(loss.item()))\n",
    "    "
   ]
  },
  {
   "cell_type": "code",
   "execution_count": 439,
   "metadata": {},
   "outputs": [
    {
     "data": {
      "text/plain": [
       "[<matplotlib.lines.Line2D at 0x7fe0ca0e7820>]"
      ]
     },
     "execution_count": 439,
     "metadata": {},
     "output_type": "execute_result"
    },
    {
     "data": {
      "image/png": "[encoded data removed]",
      "text/plain": [
       "<Figure size 432x288 with 1 Axes>"
      ]
     },
     "metadata": {
      "needs_background": "light"
     },
     "output_type": "display_data"
    }
   ],
   "source": [
    "plt.plot(n1s_losses)"
   ]
  },
  {
   "cell_type": "code",
   "execution_count": 440,
   "metadata": {},
   "outputs": [],
   "source": [
    "n1s_pred = n1s_inf()"
   ]
  },
  {
   "cell_type": "code",
   "execution_count": 441,
   "metadata": {},
   "outputs": [
    {
     "data": {
      "image/png": "[encoded data removed]",
      "text/plain": [
       "<Figure size 720x504 with 1 Axes>"
      ]
     },
     "metadata": {
      "needs_background": "light"
     },
     "output_type": "display_data"
    }
   ],
   "source": [
    "plt.figure(figsize = (10, 7))\n",
    "x_data = inp.numpy()\n",
    "pred_data = n1s_pred.numpy()\n",
    "cnt_plot, = plt.plot(x_data, counts, 'o')\n",
    "pred_plot, = plt.plot(x_data, pred_data, 'o-')\n",
    "plt.legend([cnt_plot, pred_plot],['data', 'Prediction'])\n",
    "plt.show()"
   ]
  },
  {
   "cell_type": "markdown",
   "metadata": {},
   "source": [
    "Question: Why normalize target value to betweeb [0, 1] make the training worse?"
   ]
  },
  {
   "cell_type": "code",
   "execution_count": 529,
   "metadata": {},
   "outputs": [],
   "source": [
    "def n1s_inf_test():\n",
    "    with torch.no_grad():\n",
    "        hidden = torch.sigmoid(n_inp_test @ n1sw1 + n1sb1)\n",
    "        preds = hidden @ n1sw2 + n1sb2\n",
    "    return preds"
   ]
  },
  {
   "cell_type": "code",
   "execution_count": 530,
   "metadata": {},
   "outputs": [],
   "source": [
    "n1s_pred_test = n1s_inf_test()"
   ]
  },
  {
   "cell_type": "code",
   "execution_count": 531,
   "metadata": {},
   "outputs": [
    {
     "data": {
      "image/png": "[encoded data removed]",
      "text/plain": [
       "<Figure size 720x504 with 1 Axes>"
      ]
     },
     "metadata": {
      "needs_background": "light"
     },
     "output_type": "display_data"
    }
   ],
   "source": [
    "plt.figure(figsize = (10, 7))\n",
    "x_data = inp_test.numpy()\n",
    "pred_data = n1s_pred_test.numpy()\n",
    "cnt_plot, = plt.plot(x_data, counts_test, 'o')\n",
    "pred_plot, = plt.plot(x_data, pred_data, 'o-')\n",
    "plt.legend([cnt_plot, pred_plot],['data', 'Prediction'])\n",
    "plt.show()"
   ]
  },
  {
   "cell_type": "markdown",
   "metadata": {},
   "source": [
    "### pre-process for successful predictor"
   ]
  },
  {
   "cell_type": "code",
   "execution_count": 628,
   "metadata": {},
   "outputs": [],
   "source": [
    "df1 = pd.read_csv(\"data/from_book/hour.csv\")"
   ]
  },
  {
   "cell_type": "code",
   "execution_count": 629,
   "metadata": {},
   "outputs": [
    {
     "data": {
      "text/html": [
       "<div>\n",
       "<style scoped>\n",
       "    .dataframe tbody tr th:only-of-type {\n",
       "        vertical-align: middle;\n",
       "    }\n",
       "\n",
       "    .dataframe tbody tr th {\n",
       "        vertical-align: top;\n",
       "    }\n",
       "\n",
       "    .dataframe thead th {\n",
       "        text-align: right;\n",
       "    }\n",
       "</style>\n",
       "<table border=\"1\" class=\"dataframe\">\n",
       "  <thead>\n",
       "    <tr style=\"text-align: right;\">\n",
       "      <th></th>\n",
       "      <th>instant</th>\n",
       "      <th>dteday</th>\n",
       "      <th>season</th>\n",
       "      <th>yr</th>\n",
       "      <th>mnth</th>\n",
       "      <th>hr</th>\n",
       "      <th>holiday</th>\n",
       "      <th>weekday</th>\n",
       "      <th>workingday</th>\n",
       "      <th>weathersit</th>\n",
       "      <th>temp</th>\n",
       "      <th>atemp</th>\n",
       "      <th>hum</th>\n",
       "      <th>windspeed</th>\n",
       "      <th>casual</th>\n",
       "      <th>registered</th>\n",
       "      <th>cnt</th>\n",
       "    </tr>\n",
       "  </thead>\n",
       "  <tbody>\n",
       "    <tr>\n",
       "      <th>0</th>\n",
       "      <td>1</td>\n",
       "      <td>2011-01-01</td>\n",
       "      <td>1</td>\n",
       "      <td>0</td>\n",
       "      <td>1</td>\n",
       "      <td>0</td>\n",
       "      <td>0</td>\n",
       "      <td>6</td>\n",
       "      <td>0</td>\n",
       "      <td>1</td>\n",
       "      <td>0.24</td>\n",
       "      <td>0.2879</td>\n",
       "      <td>0.81</td>\n",
       "      <td>0.0000</td>\n",
       "      <td>3</td>\n",
       "      <td>13</td>\n",
       "      <td>16</td>\n",
       "    </tr>\n",
       "    <tr>\n",
       "      <th>1</th>\n",
       "      <td>2</td>\n",
       "      <td>2011-01-01</td>\n",
       "      <td>1</td>\n",
       "      <td>0</td>\n",
       "      <td>1</td>\n",
       "      <td>1</td>\n",
       "      <td>0</td>\n",
       "      <td>6</td>\n",
       "      <td>0</td>\n",
       "      <td>1</td>\n",
       "      <td>0.22</td>\n",
       "      <td>0.2727</td>\n",
       "      <td>0.80</td>\n",
       "      <td>0.0000</td>\n",
       "      <td>8</td>\n",
       "      <td>32</td>\n",
       "      <td>40</td>\n",
       "    </tr>\n",
       "    <tr>\n",
       "      <th>2</th>\n",
       "      <td>3</td>\n",
       "      <td>2011-01-01</td>\n",
       "      <td>1</td>\n",
       "      <td>0</td>\n",
       "      <td>1</td>\n",
       "      <td>2</td>\n",
       "      <td>0</td>\n",
       "      <td>6</td>\n",
       "      <td>0</td>\n",
       "      <td>1</td>\n",
       "      <td>0.22</td>\n",
       "      <td>0.2727</td>\n",
       "      <td>0.80</td>\n",
       "      <td>0.0000</td>\n",
       "      <td>5</td>\n",
       "      <td>27</td>\n",
       "      <td>32</td>\n",
       "    </tr>\n",
       "    <tr>\n",
       "      <th>3</th>\n",
       "      <td>4</td>\n",
       "      <td>2011-01-01</td>\n",
       "      <td>1</td>\n",
       "      <td>0</td>\n",
       "      <td>1</td>\n",
       "      <td>3</td>\n",
       "      <td>0</td>\n",
       "      <td>6</td>\n",
       "      <td>0</td>\n",
       "      <td>1</td>\n",
       "      <td>0.24</td>\n",
       "      <td>0.2879</td>\n",
       "      <td>0.75</td>\n",
       "      <td>0.0000</td>\n",
       "      <td>3</td>\n",
       "      <td>10</td>\n",
       "      <td>13</td>\n",
       "    </tr>\n",
       "    <tr>\n",
       "      <th>4</th>\n",
       "      <td>5</td>\n",
       "      <td>2011-01-01</td>\n",
       "      <td>1</td>\n",
       "      <td>0</td>\n",
       "      <td>1</td>\n",
       "      <td>4</td>\n",
       "      <td>0</td>\n",
       "      <td>6</td>\n",
       "      <td>0</td>\n",
       "      <td>1</td>\n",
       "      <td>0.24</td>\n",
       "      <td>0.2879</td>\n",
       "      <td>0.75</td>\n",
       "      <td>0.0000</td>\n",
       "      <td>0</td>\n",
       "      <td>1</td>\n",
       "      <td>1</td>\n",
       "    </tr>\n",
       "    <tr>\n",
       "      <th>...</th>\n",
       "      <td>...</td>\n",
       "      <td>...</td>\n",
       "      <td>...</td>\n",
       "      <td>...</td>\n",
       "      <td>...</td>\n",
       "      <td>...</td>\n",
       "      <td>...</td>\n",
       "      <td>...</td>\n",
       "      <td>...</td>\n",
       "      <td>...</td>\n",
       "      <td>...</td>\n",
       "      <td>...</td>\n",
       "      <td>...</td>\n",
       "      <td>...</td>\n",
       "      <td>...</td>\n",
       "      <td>...</td>\n",
       "      <td>...</td>\n",
       "    </tr>\n",
       "    <tr>\n",
       "      <th>17374</th>\n",
       "      <td>17375</td>\n",
       "      <td>2012-12-31</td>\n",
       "      <td>1</td>\n",
       "      <td>1</td>\n",
       "      <td>12</td>\n",
       "      <td>19</td>\n",
       "      <td>0</td>\n",
       "      <td>1</td>\n",
       "      <td>1</td>\n",
       "      <td>2</td>\n",
       "      <td>0.26</td>\n",
       "      <td>0.2576</td>\n",
       "      <td>0.60</td>\n",
       "      <td>0.1642</td>\n",
       "      <td>11</td>\n",
       "      <td>108</td>\n",
       "      <td>119</td>\n",
       "    </tr>\n",
       "    <tr>\n",
       "      <th>17375</th>\n",
       "      <td>17376</td>\n",
       "      <td>2012-12-31</td>\n",
       "      <td>1</td>\n",
       "      <td>1</td>\n",
       "      <td>12</td>\n",
       "      <td>20</td>\n",
       "      <td>0</td>\n",
       "      <td>1</td>\n",
       "      <td>1</td>\n",
       "      <td>2</td>\n",
       "      <td>0.26</td>\n",
       "      <td>0.2576</td>\n",
       "      <td>0.60</td>\n",
       "      <td>0.1642</td>\n",
       "      <td>8</td>\n",
       "      <td>81</td>\n",
       "      <td>89</td>\n",
       "    </tr>\n",
       "    <tr>\n",
       "      <th>17376</th>\n",
       "      <td>17377</td>\n",
       "      <td>2012-12-31</td>\n",
       "      <td>1</td>\n",
       "      <td>1</td>\n",
       "      <td>12</td>\n",
       "      <td>21</td>\n",
       "      <td>0</td>\n",
       "      <td>1</td>\n",
       "      <td>1</td>\n",
       "      <td>1</td>\n",
       "      <td>0.26</td>\n",
       "      <td>0.2576</td>\n",
       "      <td>0.60</td>\n",
       "      <td>0.1642</td>\n",
       "      <td>7</td>\n",
       "      <td>83</td>\n",
       "      <td>90</td>\n",
       "    </tr>\n",
       "    <tr>\n",
       "      <th>17377</th>\n",
       "      <td>17378</td>\n",
       "      <td>2012-12-31</td>\n",
       "      <td>1</td>\n",
       "      <td>1</td>\n",
       "      <td>12</td>\n",
       "      <td>22</td>\n",
       "      <td>0</td>\n",
       "      <td>1</td>\n",
       "      <td>1</td>\n",
       "      <td>1</td>\n",
       "      <td>0.26</td>\n",
       "      <td>0.2727</td>\n",
       "      <td>0.56</td>\n",
       "      <td>0.1343</td>\n",
       "      <td>13</td>\n",
       "      <td>48</td>\n",
       "      <td>61</td>\n",
       "    </tr>\n",
       "    <tr>\n",
       "      <th>17378</th>\n",
       "      <td>17379</td>\n",
       "      <td>2012-12-31</td>\n",
       "      <td>1</td>\n",
       "      <td>1</td>\n",
       "      <td>12</td>\n",
       "      <td>23</td>\n",
       "      <td>0</td>\n",
       "      <td>1</td>\n",
       "      <td>1</td>\n",
       "      <td>1</td>\n",
       "      <td>0.26</td>\n",
       "      <td>0.2727</td>\n",
       "      <td>0.65</td>\n",
       "      <td>0.1343</td>\n",
       "      <td>12</td>\n",
       "      <td>37</td>\n",
       "      <td>49</td>\n",
       "    </tr>\n",
       "  </tbody>\n",
       "</table>\n",
       "<p>17379 rows × 17 columns</p>\n",
       "</div>"
      ],
      "text/plain": [
       "       instant      dteday  season  yr  mnth  hr  holiday  weekday  \\\n",
       "0            1  2011-01-01       1   0     1   0        0        6   \n",
       "1            2  2011-01-01       1   0     1   1        0        6   \n",
       "2            3  2011-01-01       1   0     1   2        0        6   \n",
       "3            4  2011-01-01       1   0     1   3        0        6   \n",
       "4            5  2011-01-01       1   0     1   4        0        6   \n",
       "...        ...         ...     ...  ..   ...  ..      ...      ...   \n",
       "17374    17375  2012-12-31       1   1    12  19        0        1   \n",
       "17375    17376  2012-12-31       1   1    12  20        0        1   \n",
       "17376    17377  2012-12-31       1   1    12  21        0        1   \n",
       "17377    17378  2012-12-31       1   1    12  22        0        1   \n",
       "17378    17379  2012-12-31       1   1    12  23        0        1   \n",
       "\n",
       "       workingday  weathersit  temp   atemp   hum  windspeed  casual  \\\n",
       "0               0           1  0.24  0.2879  0.81     0.0000       3   \n",
       "1               0           1  0.22  0.2727  0.80     0.0000       8   \n",
       "2               0           1  0.22  0.2727  0.80     0.0000       5   \n",
       "3               0           1  0.24  0.2879  0.75     0.0000       3   \n",
       "4               0           1  0.24  0.2879  0.75     0.0000       0   \n",
       "...           ...         ...   ...     ...   ...        ...     ...   \n",
       "17374           1           2  0.26  0.2576  0.60     0.1642      11   \n",
       "17375           1           2  0.26  0.2576  0.60     0.1642       8   \n",
       "17376           1           1  0.26  0.2576  0.60     0.1642       7   \n",
       "17377           1           1  0.26  0.2727  0.56     0.1343      13   \n",
       "17378           1           1  0.26  0.2727  0.65     0.1343      12   \n",
       "\n",
       "       registered  cnt  \n",
       "0              13   16  \n",
       "1              32   40  \n",
       "2              27   32  \n",
       "3              10   13  \n",
       "4               1    1  \n",
       "...           ...  ...  \n",
       "17374         108  119  \n",
       "17375          81   89  \n",
       "17376          83   90  \n",
       "17377          48   61  \n",
       "17378          37   49  \n",
       "\n",
       "[17379 rows x 17 columns]"
      ]
     },
     "execution_count": 629,
     "metadata": {},
     "output_type": "execute_result"
    }
   ],
   "source": [
    "df1"
   ]
  },
  {
   "cell_type": "code",
   "execution_count": 631,
   "metadata": {},
   "outputs": [
    {
     "data": {
      "text/plain": [
       "(17379, 17)"
      ]
     },
     "execution_count": 631,
     "metadata": {},
     "output_type": "execute_result"
    }
   ],
   "source": [
    "df1.shape"
   ]
  },
  {
   "cell_type": "markdown",
   "metadata": {},
   "source": [
    "check the 1-hot / binary input features"
   ]
  },
  {
   "cell_type": "code",
   "execution_count": 632,
   "metadata": {},
   "outputs": [
    {
     "data": {
      "text/plain": [
       "array([1, 2, 3, 4])"
      ]
     },
     "execution_count": 632,
     "metadata": {},
     "output_type": "execute_result"
    }
   ],
   "source": [
    "pd.unique(df1['season'])"
   ]
  },
  {
   "cell_type": "code",
   "execution_count": 633,
   "metadata": {},
   "outputs": [
    {
     "data": {
      "text/plain": [
       "array([0, 1])"
      ]
     },
     "execution_count": 633,
     "metadata": {},
     "output_type": "execute_result"
    }
   ],
   "source": [
    "pd.unique(df1['yr'])"
   ]
  },
  {
   "cell_type": "code",
   "execution_count": 634,
   "metadata": {},
   "outputs": [
    {
     "data": {
      "text/plain": [
       "array([ 1,  2,  3,  4,  5,  6,  7,  8,  9, 10, 11, 12])"
      ]
     },
     "execution_count": 634,
     "metadata": {},
     "output_type": "execute_result"
    }
   ],
   "source": [
    "pd.unique(df1['mnth'])"
   ]
  },
  {
   "cell_type": "code",
   "execution_count": 635,
   "metadata": {},
   "outputs": [
    {
     "data": {
      "text/plain": [
       "array([ 0,  1,  2,  3,  4,  5,  6,  7,  8,  9, 10, 11, 12, 13, 14, 15, 16,\n",
       "       17, 18, 19, 20, 21, 22, 23])"
      ]
     },
     "execution_count": 635,
     "metadata": {},
     "output_type": "execute_result"
    }
   ],
   "source": [
    "pd.unique(df1['hr'])"
   ]
  },
  {
   "cell_type": "code",
   "execution_count": 636,
   "metadata": {},
   "outputs": [
    {
     "data": {
      "text/plain": [
       "array([0, 1])"
      ]
     },
     "execution_count": 636,
     "metadata": {},
     "output_type": "execute_result"
    }
   ],
   "source": [
    "pd.unique(df1['holiday'])"
   ]
  },
  {
   "cell_type": "markdown",
   "metadata": {},
   "source": [
    "binary, ok"
   ]
  },
  {
   "cell_type": "code",
   "execution_count": 637,
   "metadata": {},
   "outputs": [
    {
     "data": {
      "text/plain": [
       "array([6, 0, 1, 2, 3, 4, 5])"
      ]
     },
     "execution_count": 637,
     "metadata": {},
     "output_type": "execute_result"
    }
   ],
   "source": [
    "pd.unique(df1['weekday'])"
   ]
  },
  {
   "cell_type": "code",
   "execution_count": 638,
   "metadata": {},
   "outputs": [
    {
     "data": {
      "text/plain": [
       "array([0, 1])"
      ]
     },
     "execution_count": 638,
     "metadata": {},
     "output_type": "execute_result"
    }
   ],
   "source": [
    "pd.unique(df1['workingday'])"
   ]
  },
  {
   "cell_type": "markdown",
   "metadata": {},
   "source": [
    "binary, ok"
   ]
  },
  {
   "cell_type": "code",
   "execution_count": 639,
   "metadata": {},
   "outputs": [
    {
     "data": {
      "text/plain": [
       "array([1, 2, 3, 4])"
      ]
     },
     "execution_count": 639,
     "metadata": {},
     "output_type": "execute_result"
    }
   ],
   "source": [
    "pd.unique(df1['weathersit'])"
   ]
  },
  {
   "cell_type": "markdown",
   "metadata": {},
   "source": [
    "transform those features into 1-hot"
   ]
  },
  {
   "cell_type": "code",
   "execution_count": 641,
   "metadata": {},
   "outputs": [
    {
     "data": {
      "text/plain": [
       "['season', 'yr', 'mnth', 'hr', 'weekday', 'weathersit']"
      ]
     },
     "execution_count": 641,
     "metadata": {},
     "output_type": "execute_result"
    }
   ],
   "source": [
    "dummy_fields = ['season', 'yr', 'mnth', 'hr', 'weekday', 'weathersit']\n",
    "dummy_fields"
   ]
  },
  {
   "cell_type": "code",
   "execution_count": 648,
   "metadata": {},
   "outputs": [
    {
     "data": {
      "text/plain": [
       "(0, 0)"
      ]
     },
     "execution_count": 648,
     "metadata": {},
     "output_type": "execute_result"
    }
   ],
   "source": [
    "df_proc = pd.DataFrame()\n",
    "df_proc.shape"
   ]
  },
  {
   "cell_type": "code",
   "execution_count": 650,
   "metadata": {},
   "outputs": [
    {
     "data": {
      "text/plain": [
       "(0, 0)"
      ]
     },
     "execution_count": 650,
     "metadata": {},
     "output_type": "execute_result"
    }
   ],
   "source": [
    "pd.concat([df_proc, df1],axis=1)\n",
    "df_proc.shape"
   ]
  },
  {
   "cell_type": "code",
   "execution_count": 662,
   "metadata": {},
   "outputs": [],
   "source": [
    "df_proc = Fntl.reduce(lambda acc, x: pd.concat([acc, pd.get_dummies(df1[x],prefix=x,drop_first=False)],axis=1),\n",
    "                      dummy_fields,\n",
    "                      pd.DataFrame())"
   ]
  },
  {
   "cell_type": "code",
   "execution_count": 663,
   "metadata": {},
   "outputs": [
    {
     "data": {
      "text/plain": [
       "Index(['season_1', 'season_2', 'season_3', 'season_4', 'yr_0', 'yr_1',\n",
       "       'mnth_1', 'mnth_2', 'mnth_3', 'mnth_4', 'mnth_5', 'mnth_6', 'mnth_7',\n",
       "       'mnth_8', 'mnth_9', 'mnth_10', 'mnth_11', 'mnth_12', 'hr_0', 'hr_1',\n",
       "       'hr_2', 'hr_3', 'hr_4', 'hr_5', 'hr_6', 'hr_7', 'hr_8', 'hr_9', 'hr_10',\n",
       "       'hr_11', 'hr_12', 'hr_13', 'hr_14', 'hr_15', 'hr_16', 'hr_17', 'hr_18',\n",
       "       'hr_19', 'hr_20', 'hr_21', 'hr_22', 'hr_23', 'weekday_0', 'weekday_1',\n",
       "       'weekday_2', 'weekday_3', 'weekday_4', 'weekday_5', 'weekday_6',\n",
       "       'weathersit_1', 'weathersit_2', 'weathersit_3', 'weathersit_4'],\n",
       "      dtype='object')"
      ]
     },
     "execution_count": 663,
     "metadata": {},
     "output_type": "execute_result"
    }
   ],
   "source": [
    "df_proc.columns"
   ]
  },
  {
   "cell_type": "code",
   "execution_count": 664,
   "metadata": {},
   "outputs": [
    {
     "data": {
      "text/plain": [
       "(17379, 53)"
      ]
     },
     "execution_count": 664,
     "metadata": {},
     "output_type": "execute_result"
    }
   ],
   "source": [
    "df_proc.shape"
   ]
  },
  {
   "cell_type": "markdown",
   "metadata": {},
   "source": [
    "normalize qualitative input features"
   ]
  },
  {
   "cell_type": "code",
   "execution_count": 665,
   "metadata": {},
   "outputs": [],
   "source": [
    "quant_features = ['cnt', 'temp', 'hum', 'windspeed']"
   ]
  },
  {
   "cell_type": "code",
   "execution_count": 668,
   "metadata": {},
   "outputs": [],
   "source": [
    "feature_statistics = {}\n",
    "for k in quant_features:\n",
    "    mean, std = (df1[k].mean(), df1[k].std())\n",
    "    feature_statistics[k] = (mean, std)\n",
    "    df_proc[k] = (df1[k] - mean) / std"
   ]
  },
  {
   "cell_type": "code",
   "execution_count": 669,
   "metadata": {},
   "outputs": [
    {
     "data": {
      "text/html": [
       "<div>\n",
       "<style scoped>\n",
       "    .dataframe tbody tr th:only-of-type {\n",
       "        vertical-align: middle;\n",
       "    }\n",
       "\n",
       "    .dataframe tbody tr th {\n",
       "        vertical-align: top;\n",
       "    }\n",
       "\n",
       "    .dataframe thead th {\n",
       "        text-align: right;\n",
       "    }\n",
       "</style>\n",
       "<table border=\"1\" class=\"dataframe\">\n",
       "  <thead>\n",
       "    <tr style=\"text-align: right;\">\n",
       "      <th></th>\n",
       "      <th>season_1</th>\n",
       "      <th>season_2</th>\n",
       "      <th>season_3</th>\n",
       "      <th>season_4</th>\n",
       "      <th>yr_0</th>\n",
       "      <th>yr_1</th>\n",
       "      <th>mnth_1</th>\n",
       "      <th>mnth_2</th>\n",
       "      <th>mnth_3</th>\n",
       "      <th>mnth_4</th>\n",
       "      <th>...</th>\n",
       "      <th>weekday_5</th>\n",
       "      <th>weekday_6</th>\n",
       "      <th>weathersit_1</th>\n",
       "      <th>weathersit_2</th>\n",
       "      <th>weathersit_3</th>\n",
       "      <th>weathersit_4</th>\n",
       "      <th>cnt</th>\n",
       "      <th>temp</th>\n",
       "      <th>hum</th>\n",
       "      <th>windspeed</th>\n",
       "    </tr>\n",
       "  </thead>\n",
       "  <tbody>\n",
       "    <tr>\n",
       "      <th>0</th>\n",
       "      <td>1</td>\n",
       "      <td>0</td>\n",
       "      <td>0</td>\n",
       "      <td>0</td>\n",
       "      <td>1</td>\n",
       "      <td>0</td>\n",
       "      <td>1</td>\n",
       "      <td>0</td>\n",
       "      <td>0</td>\n",
       "      <td>0</td>\n",
       "      <td>...</td>\n",
       "      <td>0</td>\n",
       "      <td>1</td>\n",
       "      <td>1</td>\n",
       "      <td>0</td>\n",
       "      <td>0</td>\n",
       "      <td>0</td>\n",
       "      <td>-0.956312</td>\n",
       "      <td>-1.334609</td>\n",
       "      <td>0.947345</td>\n",
       "      <td>-1.553844</td>\n",
       "    </tr>\n",
       "    <tr>\n",
       "      <th>1</th>\n",
       "      <td>1</td>\n",
       "      <td>0</td>\n",
       "      <td>0</td>\n",
       "      <td>0</td>\n",
       "      <td>1</td>\n",
       "      <td>0</td>\n",
       "      <td>1</td>\n",
       "      <td>0</td>\n",
       "      <td>0</td>\n",
       "      <td>0</td>\n",
       "      <td>...</td>\n",
       "      <td>0</td>\n",
       "      <td>1</td>\n",
       "      <td>1</td>\n",
       "      <td>0</td>\n",
       "      <td>0</td>\n",
       "      <td>0</td>\n",
       "      <td>-0.823998</td>\n",
       "      <td>-1.438475</td>\n",
       "      <td>0.895513</td>\n",
       "      <td>-1.553844</td>\n",
       "    </tr>\n",
       "    <tr>\n",
       "      <th>2</th>\n",
       "      <td>1</td>\n",
       "      <td>0</td>\n",
       "      <td>0</td>\n",
       "      <td>0</td>\n",
       "      <td>1</td>\n",
       "      <td>0</td>\n",
       "      <td>1</td>\n",
       "      <td>0</td>\n",
       "      <td>0</td>\n",
       "      <td>0</td>\n",
       "      <td>...</td>\n",
       "      <td>0</td>\n",
       "      <td>1</td>\n",
       "      <td>1</td>\n",
       "      <td>0</td>\n",
       "      <td>0</td>\n",
       "      <td>0</td>\n",
       "      <td>-0.868103</td>\n",
       "      <td>-1.438475</td>\n",
       "      <td>0.895513</td>\n",
       "      <td>-1.553844</td>\n",
       "    </tr>\n",
       "    <tr>\n",
       "      <th>3</th>\n",
       "      <td>1</td>\n",
       "      <td>0</td>\n",
       "      <td>0</td>\n",
       "      <td>0</td>\n",
       "      <td>1</td>\n",
       "      <td>0</td>\n",
       "      <td>1</td>\n",
       "      <td>0</td>\n",
       "      <td>0</td>\n",
       "      <td>0</td>\n",
       "      <td>...</td>\n",
       "      <td>0</td>\n",
       "      <td>1</td>\n",
       "      <td>1</td>\n",
       "      <td>0</td>\n",
       "      <td>0</td>\n",
       "      <td>0</td>\n",
       "      <td>-0.972851</td>\n",
       "      <td>-1.334609</td>\n",
       "      <td>0.636351</td>\n",
       "      <td>-1.553844</td>\n",
       "    </tr>\n",
       "    <tr>\n",
       "      <th>4</th>\n",
       "      <td>1</td>\n",
       "      <td>0</td>\n",
       "      <td>0</td>\n",
       "      <td>0</td>\n",
       "      <td>1</td>\n",
       "      <td>0</td>\n",
       "      <td>1</td>\n",
       "      <td>0</td>\n",
       "      <td>0</td>\n",
       "      <td>0</td>\n",
       "      <td>...</td>\n",
       "      <td>0</td>\n",
       "      <td>1</td>\n",
       "      <td>1</td>\n",
       "      <td>0</td>\n",
       "      <td>0</td>\n",
       "      <td>0</td>\n",
       "      <td>-1.039008</td>\n",
       "      <td>-1.334609</td>\n",
       "      <td>0.636351</td>\n",
       "      <td>-1.553844</td>\n",
       "    </tr>\n",
       "    <tr>\n",
       "      <th>...</th>\n",
       "      <td>...</td>\n",
       "      <td>...</td>\n",
       "      <td>...</td>\n",
       "      <td>...</td>\n",
       "      <td>...</td>\n",
       "      <td>...</td>\n",
       "      <td>...</td>\n",
       "      <td>...</td>\n",
       "      <td>...</td>\n",
       "      <td>...</td>\n",
       "      <td>...</td>\n",
       "      <td>...</td>\n",
       "      <td>...</td>\n",
       "      <td>...</td>\n",
       "      <td>...</td>\n",
       "      <td>...</td>\n",
       "      <td>...</td>\n",
       "      <td>...</td>\n",
       "      <td>...</td>\n",
       "      <td>...</td>\n",
       "      <td>...</td>\n",
       "    </tr>\n",
       "    <tr>\n",
       "      <th>17374</th>\n",
       "      <td>1</td>\n",
       "      <td>0</td>\n",
       "      <td>0</td>\n",
       "      <td>0</td>\n",
       "      <td>0</td>\n",
       "      <td>1</td>\n",
       "      <td>0</td>\n",
       "      <td>0</td>\n",
       "      <td>0</td>\n",
       "      <td>0</td>\n",
       "      <td>...</td>\n",
       "      <td>0</td>\n",
       "      <td>0</td>\n",
       "      <td>0</td>\n",
       "      <td>1</td>\n",
       "      <td>0</td>\n",
       "      <td>0</td>\n",
       "      <td>-0.388467</td>\n",
       "      <td>-1.230743</td>\n",
       "      <td>-0.141133</td>\n",
       "      <td>-0.211685</td>\n",
       "    </tr>\n",
       "    <tr>\n",
       "      <th>17375</th>\n",
       "      <td>1</td>\n",
       "      <td>0</td>\n",
       "      <td>0</td>\n",
       "      <td>0</td>\n",
       "      <td>0</td>\n",
       "      <td>1</td>\n",
       "      <td>0</td>\n",
       "      <td>0</td>\n",
       "      <td>0</td>\n",
       "      <td>0</td>\n",
       "      <td>...</td>\n",
       "      <td>0</td>\n",
       "      <td>0</td>\n",
       "      <td>0</td>\n",
       "      <td>1</td>\n",
       "      <td>0</td>\n",
       "      <td>0</td>\n",
       "      <td>-0.553859</td>\n",
       "      <td>-1.230743</td>\n",
       "      <td>-0.141133</td>\n",
       "      <td>-0.211685</td>\n",
       "    </tr>\n",
       "    <tr>\n",
       "      <th>17376</th>\n",
       "      <td>1</td>\n",
       "      <td>0</td>\n",
       "      <td>0</td>\n",
       "      <td>0</td>\n",
       "      <td>0</td>\n",
       "      <td>1</td>\n",
       "      <td>0</td>\n",
       "      <td>0</td>\n",
       "      <td>0</td>\n",
       "      <td>0</td>\n",
       "      <td>...</td>\n",
       "      <td>0</td>\n",
       "      <td>0</td>\n",
       "      <td>1</td>\n",
       "      <td>0</td>\n",
       "      <td>0</td>\n",
       "      <td>0</td>\n",
       "      <td>-0.548346</td>\n",
       "      <td>-1.230743</td>\n",
       "      <td>-0.141133</td>\n",
       "      <td>-0.211685</td>\n",
       "    </tr>\n",
       "    <tr>\n",
       "      <th>17377</th>\n",
       "      <td>1</td>\n",
       "      <td>0</td>\n",
       "      <td>0</td>\n",
       "      <td>0</td>\n",
       "      <td>0</td>\n",
       "      <td>1</td>\n",
       "      <td>0</td>\n",
       "      <td>0</td>\n",
       "      <td>0</td>\n",
       "      <td>0</td>\n",
       "      <td>...</td>\n",
       "      <td>0</td>\n",
       "      <td>0</td>\n",
       "      <td>1</td>\n",
       "      <td>0</td>\n",
       "      <td>0</td>\n",
       "      <td>0</td>\n",
       "      <td>-0.708224</td>\n",
       "      <td>-1.230743</td>\n",
       "      <td>-0.348463</td>\n",
       "      <td>-0.456086</td>\n",
       "    </tr>\n",
       "    <tr>\n",
       "      <th>17378</th>\n",
       "      <td>1</td>\n",
       "      <td>0</td>\n",
       "      <td>0</td>\n",
       "      <td>0</td>\n",
       "      <td>0</td>\n",
       "      <td>1</td>\n",
       "      <td>0</td>\n",
       "      <td>0</td>\n",
       "      <td>0</td>\n",
       "      <td>0</td>\n",
       "      <td>...</td>\n",
       "      <td>0</td>\n",
       "      <td>0</td>\n",
       "      <td>1</td>\n",
       "      <td>0</td>\n",
       "      <td>0</td>\n",
       "      <td>0</td>\n",
       "      <td>-0.774381</td>\n",
       "      <td>-1.230743</td>\n",
       "      <td>0.118028</td>\n",
       "      <td>-0.456086</td>\n",
       "    </tr>\n",
       "  </tbody>\n",
       "</table>\n",
       "<p>17379 rows × 57 columns</p>\n",
       "</div>"
      ],
      "text/plain": [
       "       season_1  season_2  season_3  season_4  yr_0  yr_1  mnth_1  mnth_2  \\\n",
       "0             1         0         0         0     1     0       1       0   \n",
       "1             1         0         0         0     1     0       1       0   \n",
       "2             1         0         0         0     1     0       1       0   \n",
       "3             1         0         0         0     1     0       1       0   \n",
       "4             1         0         0         0     1     0       1       0   \n",
       "...         ...       ...       ...       ...   ...   ...     ...     ...   \n",
       "17374         1         0         0         0     0     1       0       0   \n",
       "17375         1         0         0         0     0     1       0       0   \n",
       "17376         1         0         0         0     0     1       0       0   \n",
       "17377         1         0         0         0     0     1       0       0   \n",
       "17378         1         0         0         0     0     1       0       0   \n",
       "\n",
       "       mnth_3  mnth_4  ...  weekday_5  weekday_6  weathersit_1  weathersit_2  \\\n",
       "0           0       0  ...          0          1             1             0   \n",
       "1           0       0  ...          0          1             1             0   \n",
       "2           0       0  ...          0          1             1             0   \n",
       "3           0       0  ...          0          1             1             0   \n",
       "4           0       0  ...          0          1             1             0   \n",
       "...       ...     ...  ...        ...        ...           ...           ...   \n",
       "17374       0       0  ...          0          0             0             1   \n",
       "17375       0       0  ...          0          0             0             1   \n",
       "17376       0       0  ...          0          0             1             0   \n",
       "17377       0       0  ...          0          0             1             0   \n",
       "17378       0       0  ...          0          0             1             0   \n",
       "\n",
       "       weathersit_3  weathersit_4       cnt      temp       hum  windspeed  \n",
       "0                 0             0 -0.956312 -1.334609  0.947345  -1.553844  \n",
       "1                 0             0 -0.823998 -1.438475  0.895513  -1.553844  \n",
       "2                 0             0 -0.868103 -1.438475  0.895513  -1.553844  \n",
       "3                 0             0 -0.972851 -1.334609  0.636351  -1.553844  \n",
       "4                 0             0 -1.039008 -1.334609  0.636351  -1.553844  \n",
       "...             ...           ...       ...       ...       ...        ...  \n",
       "17374             0             0 -0.388467 -1.230743 -0.141133  -0.211685  \n",
       "17375             0             0 -0.553859 -1.230743 -0.141133  -0.211685  \n",
       "17376             0             0 -0.548346 -1.230743 -0.141133  -0.211685  \n",
       "17377             0             0 -0.708224 -1.230743 -0.348463  -0.456086  \n",
       "17378             0             0 -0.774381 -1.230743  0.118028  -0.456086  \n",
       "\n",
       "[17379 rows x 57 columns]"
      ]
     },
     "execution_count": 669,
     "metadata": {},
     "output_type": "execute_result"
    }
   ],
   "source": [
    "df_proc"
   ]
  },
  {
   "cell_type": "code",
   "execution_count": 672,
   "metadata": {},
   "outputs": [
    {
     "data": {
      "text/plain": [
       "(17379, 57)"
      ]
     },
     "execution_count": 672,
     "metadata": {},
     "output_type": "execute_result"
    }
   ],
   "source": [
    "df_proc.shape"
   ]
  },
  {
   "cell_type": "markdown",
   "metadata": {},
   "source": [
    "separate the target data."
   ]
  },
  {
   "cell_type": "code",
   "execution_count": 673,
   "metadata": {},
   "outputs": [],
   "source": [
    "target_fields = ['cnt', 'casual', 'registered']"
   ]
  },
  {
   "cell_type": "code",
   "execution_count": 675,
   "metadata": {},
   "outputs": [
    {
     "data": {
      "text/html": [
       "<div>\n",
       "<style scoped>\n",
       "    .dataframe tbody tr th:only-of-type {\n",
       "        vertical-align: middle;\n",
       "    }\n",
       "\n",
       "    .dataframe tbody tr th {\n",
       "        vertical-align: top;\n",
       "    }\n",
       "\n",
       "    .dataframe thead th {\n",
       "        text-align: right;\n",
       "    }\n",
       "</style>\n",
       "<table border=\"1\" class=\"dataframe\">\n",
       "  <thead>\n",
       "    <tr style=\"text-align: right;\">\n",
       "      <th></th>\n",
       "      <th>cnt</th>\n",
       "      <th>casual</th>\n",
       "      <th>registered</th>\n",
       "    </tr>\n",
       "  </thead>\n",
       "  <tbody>\n",
       "    <tr>\n",
       "      <th>0</th>\n",
       "      <td>16</td>\n",
       "      <td>3</td>\n",
       "      <td>13</td>\n",
       "    </tr>\n",
       "    <tr>\n",
       "      <th>1</th>\n",
       "      <td>40</td>\n",
       "      <td>8</td>\n",
       "      <td>32</td>\n",
       "    </tr>\n",
       "    <tr>\n",
       "      <th>2</th>\n",
       "      <td>32</td>\n",
       "      <td>5</td>\n",
       "      <td>27</td>\n",
       "    </tr>\n",
       "    <tr>\n",
       "      <th>3</th>\n",
       "      <td>13</td>\n",
       "      <td>3</td>\n",
       "      <td>10</td>\n",
       "    </tr>\n",
       "    <tr>\n",
       "      <th>4</th>\n",
       "      <td>1</td>\n",
       "      <td>0</td>\n",
       "      <td>1</td>\n",
       "    </tr>\n",
       "    <tr>\n",
       "      <th>...</th>\n",
       "      <td>...</td>\n",
       "      <td>...</td>\n",
       "      <td>...</td>\n",
       "    </tr>\n",
       "    <tr>\n",
       "      <th>17374</th>\n",
       "      <td>119</td>\n",
       "      <td>11</td>\n",
       "      <td>108</td>\n",
       "    </tr>\n",
       "    <tr>\n",
       "      <th>17375</th>\n",
       "      <td>89</td>\n",
       "      <td>8</td>\n",
       "      <td>81</td>\n",
       "    </tr>\n",
       "    <tr>\n",
       "      <th>17376</th>\n",
       "      <td>90</td>\n",
       "      <td>7</td>\n",
       "      <td>83</td>\n",
       "    </tr>\n",
       "    <tr>\n",
       "      <th>17377</th>\n",
       "      <td>61</td>\n",
       "      <td>13</td>\n",
       "      <td>48</td>\n",
       "    </tr>\n",
       "    <tr>\n",
       "      <th>17378</th>\n",
       "      <td>49</td>\n",
       "      <td>12</td>\n",
       "      <td>37</td>\n",
       "    </tr>\n",
       "  </tbody>\n",
       "</table>\n",
       "<p>17379 rows × 3 columns</p>\n",
       "</div>"
      ],
      "text/plain": [
       "       cnt  casual  registered\n",
       "0       16       3          13\n",
       "1       40       8          32\n",
       "2       32       5          27\n",
       "3       13       3          10\n",
       "4        1       0           1\n",
       "...    ...     ...         ...\n",
       "17374  119      11         108\n",
       "17375   89       8          81\n",
       "17376   90       7          83\n",
       "17377   61      13          48\n",
       "17378   49      12          37\n",
       "\n",
       "[17379 rows x 3 columns]"
      ]
     },
     "execution_count": 675,
     "metadata": {},
     "output_type": "execute_result"
    }
   ],
   "source": [
    "df_tgts = df1[target_fields]\n",
    "df_tgts"
   ]
  },
  {
   "cell_type": "markdown",
   "metadata": {},
   "source": [
    "separate train / test data & transform as tensors"
   ]
  },
  {
   "cell_type": "code",
   "execution_count": 676,
   "metadata": {},
   "outputs": [],
   "source": [
    "df_inp_train = df_proc[:-21*24]\n",
    "df_inp_test = df_proc[-21*24:]"
   ]
  },
  {
   "cell_type": "code",
   "execution_count": 677,
   "metadata": {},
   "outputs": [
    {
     "data": {
      "text/plain": [
       "(16875, 57)"
      ]
     },
     "execution_count": 677,
     "metadata": {},
     "output_type": "execute_result"
    }
   ],
   "source": [
    "df_inp_train.shape"
   ]
  },
  {
   "cell_type": "code",
   "execution_count": 678,
   "metadata": {},
   "outputs": [
    {
     "data": {
      "text/plain": [
       "(504, 57)"
      ]
     },
     "execution_count": 678,
     "metadata": {},
     "output_type": "execute_result"
    }
   ],
   "source": [
    "df_inp_test.shape"
   ]
  },
  {
   "cell_type": "code",
   "execution_count": 679,
   "metadata": {},
   "outputs": [],
   "source": [
    "df_tgts_train, df_tgts_test = df_tgts[:-21*24], df_tgts[-21*24:]"
   ]
  },
  {
   "cell_type": "code",
   "execution_count": 680,
   "metadata": {},
   "outputs": [
    {
     "data": {
      "text/plain": [
       "(16875, 3)"
      ]
     },
     "execution_count": 680,
     "metadata": {},
     "output_type": "execute_result"
    }
   ],
   "source": [
    "df_tgts_train.shape"
   ]
  },
  {
   "cell_type": "code",
   "execution_count": 681,
   "metadata": {},
   "outputs": [
    {
     "data": {
      "text/plain": [
       "(504, 3)"
      ]
     },
     "execution_count": 681,
     "metadata": {},
     "output_type": "execute_result"
    }
   ],
   "source": [
    "df_tgts_test.shape"
   ]
  },
  {
   "cell_type": "code",
   "execution_count": 767,
   "metadata": {},
   "outputs": [],
   "source": [
    "train_x = torch.tensor(df_inp_train.values).float()"
   ]
  },
  {
   "cell_type": "code",
   "execution_count": 845,
   "metadata": {},
   "outputs": [
    {
     "data": {
      "text/plain": [
       "torch.Size([16875, 1])"
      ]
     },
     "execution_count": 845,
     "metadata": {},
     "output_type": "execute_result"
    }
   ],
   "source": [
    "train_y_v = df_tgts_train['cnt'].values\n",
    "train_y = torch.tensor(train_y_v.reshape(len(train_y_v),1)).float()\n",
    "train_y.shape"
   ]
  },
  {
   "cell_type": "code",
   "execution_count": 846,
   "metadata": {},
   "outputs": [],
   "source": [
    "test_x = torch.tensor(df_inp_test.values).float()"
   ]
  },
  {
   "cell_type": "code",
   "execution_count": 848,
   "metadata": {},
   "outputs": [
    {
     "data": {
      "text/plain": [
       "torch.Size([504, 1])"
      ]
     },
     "execution_count": 848,
     "metadata": {},
     "output_type": "execute_result"
    }
   ],
   "source": [
    "test_y_v = df_tgts_test['cnt'].values\n",
    "test_y = torch.tensor(test_y_v.reshape(len(test_y_v),1)).float()\n",
    "test_y.shape"
   ]
  },
  {
   "cell_type": "code",
   "execution_count": 687,
   "metadata": {},
   "outputs": [],
   "source": [
    "inp_size = train_x.shape[1]\n",
    "hidden_size = 10\n",
    "output_size = 1\n",
    "batch_size = 128"
   ]
  },
  {
   "cell_type": "markdown",
   "metadata": {},
   "source": [
    "### Make DataSet Object"
   ]
  },
  {
   "cell_type": "code",
   "execution_count": 860,
   "metadata": {},
   "outputs": [],
   "source": [
    "class BSDataset(Dataset):\n",
    "    def __init__(self, xs, ys):\n",
    "        self.xs = xs\n",
    "        self.ys = ys\n",
    "    def __len__(self):\n",
    "        return self.xs.shape[0]\n",
    "    def __getitem__(self, id):\n",
    "        #if id == 0:\n",
    "        #    print(f\"x shape: {self.xs[id].shape}\")\n",
    "        #    print(f\"y shape: {self.ys[id].shape}\")\n",
    "        return self.xs[id], self.ys[id]"
   ]
  },
  {
   "cell_type": "code",
   "execution_count": 861,
   "metadata": {},
   "outputs": [],
   "source": [
    "train_set = BSDataset(train_x, train_y)"
   ]
  },
  {
   "cell_type": "code",
   "execution_count": 862,
   "metadata": {},
   "outputs": [],
   "source": [
    "test_set = BSDataset(test_x, test_y)"
   ]
  },
  {
   "cell_type": "code",
   "execution_count": 863,
   "metadata": {},
   "outputs": [],
   "source": [
    "train_dataloader = DataLoader(train_set, batch_size=batch_size)\n",
    "test_dataloader = DataLoader(test_set, batch_size=batch_size)"
   ]
  },
  {
   "cell_type": "markdown",
   "metadata": {},
   "source": [
    "### Make model"
   ]
  },
  {
   "cell_type": "code",
   "execution_count": 896,
   "metadata": {},
   "outputs": [],
   "source": [
    "class BSModel(nn.Module):\n",
    "    def __init__(self, input_size, hidden_size, output_size):\n",
    "        super(BSModel, self).__init__()\n",
    "        self.stack = nn.Sequential(\n",
    "            nn.Linear(input_size, hidden_size),\n",
    "            nn.Sigmoid(),\n",
    "            nn.Linear(hidden_size, output_size)\n",
    "        )\n",
    "    def forward(self, inp):\n",
    "        return self.stack(inp)"
   ]
  },
  {
   "cell_type": "code",
   "execution_count": 897,
   "metadata": {},
   "outputs": [],
   "source": [
    "md0 = BSModel(inp_size, hidden_size, output_size)"
   ]
  },
  {
   "cell_type": "markdown",
   "metadata": {},
   "source": [
    "### Make the train / test functions"
   ]
  },
  {
   "cell_type": "code",
   "execution_count": 898,
   "metadata": {},
   "outputs": [],
   "source": [
    "optimizer = optim.SGD(md0.parameters(), lr=0.01)"
   ]
  },
  {
   "cell_type": "code",
   "execution_count": 899,
   "metadata": {},
   "outputs": [],
   "source": [
    "loss_fn = nn.MSELoss()"
   ]
  },
  {
   "cell_type": "code",
   "execution_count": 900,
   "metadata": {},
   "outputs": [],
   "source": [
    "def train_loop(dataloader, model, loss_fn, optimizer):\n",
    "    size = len(dataloader.dataset)\n",
    "    loss = 0.\n",
    "    for batch, (X, y) in enumerate(dataloader):\n",
    "        # Compute prediction and loss\n",
    "        pred = model(X)\n",
    "        loss = loss_fn(pred, y)\n",
    "\n",
    "        # Backpropagation\n",
    "        optimizer.zero_grad()\n",
    "        loss.backward()\n",
    "        optimizer.step()\n",
    "\n",
    "        #if batch % 100 == 0:\n",
    "        #    loss, current = loss.item(), batch * len(X)\n",
    "        #    print(f\"loss: {loss:>7f}  [{current:>8d}/{size:>8d}]\")\n",
    "    return loss"
   ]
  },
  {
   "cell_type": "code",
   "execution_count": 901,
   "metadata": {},
   "outputs": [],
   "source": [
    "def trn_epoches(tot_epoches, model, loss_fn, dataloader, optimizer):\n",
    "    losses = []\n",
    "    for i in range(tot_epoches):\n",
    "        loss = train_loop(dataloader, model, loss_fn, optimizer)\n",
    "        losses.append(loss)\n",
    "        if i % 200 == 0:\n",
    "            print(f\"\\nepoch {i:>6d}/{tot_epoches:>6d}, loss: {loss:>7f}\")\n",
    "    return losses\n",
    "        "
   ]
  },
  {
   "cell_type": "code",
   "execution_count": 909,
   "metadata": {},
   "outputs": [],
   "source": [
    "def test_loop(model, xs, ys, loss_fn):\n",
    "    with torch.no_grad():\n",
    "        pred = model(xs)\n",
    "        test_loss = loss_fn(pred, ys).item()\n",
    "    print(f\"loss: {test_loss:>8f} \\n\")\n",
    "    return pred"
   ]
  },
  {
   "cell_type": "markdown",
   "metadata": {},
   "source": [
    "### Training"
   ]
  },
  {
   "cell_type": "code",
   "execution_count": 903,
   "metadata": {},
   "outputs": [
    {
     "name": "stdout",
     "output_type": "stream",
     "text": [
      "\n",
      "epoch      0/  1000, loss: 1394.103516\n",
      "\n",
      "epoch    200/  1000, loss: 53.400578\n",
      "\n",
      "epoch    400/  1000, loss: 75.192871\n",
      "\n",
      "epoch    600/  1000, loss: 225.990692\n",
      "\n",
      "epoch    800/  1000, loss: 134.277634\n"
     ]
    }
   ],
   "source": [
    "loss_hist = trn_epoches(1000, md0,loss_fn, train_dataloader,optimizer)"
   ]
  },
  {
   "cell_type": "code",
   "execution_count": 923,
   "metadata": {},
   "outputs": [
    {
     "data": {
      "text/plain": [
       "[<matplotlib.lines.Line2D at 0x7fe0a0184820>]"
      ]
     },
     "execution_count": 923,
     "metadata": {},
     "output_type": "execute_result"
    },
    {
     "data": {
      "image/png": "[encoded data removed]",
      "text/plain": [
       "<Figure size 432x288 with 1 Axes>"
      ]
     },
     "metadata": {
      "needs_background": "light"
     },
     "output_type": "display_data"
    }
   ],
   "source": [
    "plt.plot(loss_hist)"
   ]
  },
  {
   "cell_type": "markdown",
   "metadata": {},
   "source": [
    "### Test"
   ]
  },
  {
   "cell_type": "code",
   "execution_count": 911,
   "metadata": {},
   "outputs": [
    {
     "name": "stdout",
     "output_type": "stream",
     "text": [
      "loss: 146.826920 \n",
      "\n"
     ]
    }
   ],
   "source": [
    "pred = test_loop(md0, test_x, test_y, loss_fn)"
   ]
  },
  {
   "cell_type": "code",
   "execution_count": 922,
   "metadata": {},
   "outputs": [
    {
     "data": {
      "text/plain": [
       "(504, 1)"
      ]
     },
     "execution_count": 922,
     "metadata": {},
     "output_type": "execute_result"
    }
   ],
   "source": [
    "pred.numpy().shape"
   ]
  },
  {
   "cell_type": "code",
   "execution_count": 919,
   "metadata": {},
   "outputs": [
    {
     "data": {
      "image/png": "[encoded data removed]",
      "text/plain": [
       "<Figure size 1152x504 with 1 Axes>"
      ]
     },
     "metadata": {
      "needs_background": "light"
     },
     "output_type": "display_data"
    }
   ],
   "source": [
    "plt.figure(figsize = (16, 7))\n",
    "x_data = df_inp_test.reset_index()['index']\n",
    "pred_data = pred.numpy()\n",
    "tgt_data = test_y.numpy()\n",
    "cnt_plot, = plt.plot(x_data, tgt_data, 'o')\n",
    "pred_plot, = plt.plot(x_data, pred_data, 'o-')\n",
    "plt.legend([cnt_plot, pred_plot],['data', 'Prediction'])\n",
    "plt.show()"
   ]
  },
  {
   "cell_type": "code",
   "execution_count": 934,
   "metadata": {},
   "outputs": [
    {
     "data": {
      "image/png": "[encoded data removed]",
      "text/plain": [
       "<Figure size 1152x504 with 1 Axes>"
      ]
     },
     "metadata": {
      "needs_background": "light"
     },
     "output_type": "display_data"
    }
   ],
   "source": [
    "fig, ax = plt.subplots(figsize = (16, 7))\n",
    "\n",
    "\n",
    "x_data = df_inp_test.reset_index()['index']\n",
    "pred_data = pred.numpy()\n",
    "tgt_data = test_y.numpy()\n",
    "\n",
    "ax.plot(pred_data, 'o-', label='prediction')\n",
    "ax.plot(tgt_data, 'o', label='target')\n",
    "ax.legend()\n",
    "ax.set_xlabel('Date-time')\n",
    "ax.set_ylabel('Counts')\n",
    "\n",
    "dates = pd.to_datetime(df1.loc[df_inp_test.index]['dteday'])\n",
    "dates = dates.apply(lambda d: d.strftime('%b %d'))\n",
    "ax.set_xticks(np.arange(len(dates))[12::24])\n",
    "_ = ax.set_xticklabels(dates[12::24], rotation=45)"
   ]
  },
  {
   "cell_type": "code",
   "execution_count": 924,
   "metadata": {},
   "outputs": [
    {
     "data": {
      "text/plain": [
       "RangeIndex(start=16875, stop=17379, step=1)"
      ]
     },
     "execution_count": 924,
     "metadata": {},
     "output_type": "execute_result"
    }
   ],
   "source": [
    "df_inp_test.index"
   ]
  },
  {
   "cell_type": "code",
   "execution_count": null,
   "metadata": {},
   "outputs": [],
   "source": []
  },
  {
   "cell_type": "markdown",
   "metadata": {},
   "source": [
    "已經測試過，經過no_grad的model，要重新require_grad ?"
   ]
  },
  {
   "cell_type": "code",
   "execution_count": null,
   "metadata": {},
   "outputs": [],
   "source": []
  },
  {
   "cell_type": "code",
   "execution_count": 827,
   "metadata": {},
   "outputs": [],
   "source": [
    "tmp_a = torch.tensor([0,1,2])"
   ]
  },
  {
   "cell_type": "code",
   "execution_count": 828,
   "metadata": {},
   "outputs": [
    {
     "data": {
      "text/plain": [
       "tensor([0, 1, 2])"
      ]
     },
     "execution_count": 828,
     "metadata": {},
     "output_type": "execute_result"
    }
   ],
   "source": [
    "tmp_a"
   ]
  },
  {
   "cell_type": "code",
   "execution_count": 829,
   "metadata": {},
   "outputs": [
    {
     "data": {
      "text/plain": [
       "torch.Size([3])"
      ]
     },
     "execution_count": 829,
     "metadata": {},
     "output_type": "execute_result"
    }
   ],
   "source": [
    "tmp_a.shape"
   ]
  },
  {
   "cell_type": "code",
   "execution_count": 830,
   "metadata": {},
   "outputs": [],
   "source": [
    "tmpa = tmp_a.reshape([3,1])"
   ]
  },
  {
   "cell_type": "code",
   "execution_count": 831,
   "metadata": {},
   "outputs": [
    {
     "data": {
      "text/plain": [
       "torch.Size([3])"
      ]
     },
     "execution_count": 831,
     "metadata": {},
     "output_type": "execute_result"
    }
   ],
   "source": [
    "tmp_a.shape"
   ]
  },
  {
   "cell_type": "code",
   "execution_count": 832,
   "metadata": {},
   "outputs": [
    {
     "data": {
      "text/plain": [
       "tensor([0, 1, 2])"
      ]
     },
     "execution_count": 832,
     "metadata": {},
     "output_type": "execute_result"
    }
   ],
   "source": [
    "tmp_a"
   ]
  },
  {
   "cell_type": "code",
   "execution_count": 833,
   "metadata": {},
   "outputs": [],
   "source": [
    "tmp_b = torch.tensor([[0],[1],[2]])"
   ]
  },
  {
   "cell_type": "code",
   "execution_count": 834,
   "metadata": {},
   "outputs": [
    {
     "data": {
      "text/plain": [
       "tensor([[0],\n",
       "        [1],\n",
       "        [2]])"
      ]
     },
     "execution_count": 834,
     "metadata": {},
     "output_type": "execute_result"
    }
   ],
   "source": [
    "tmp_b"
   ]
  },
  {
   "cell_type": "code",
   "execution_count": 835,
   "metadata": {},
   "outputs": [
    {
     "data": {
      "text/plain": [
       "torch.Size([3, 1])"
      ]
     },
     "execution_count": 835,
     "metadata": {},
     "output_type": "execute_result"
    }
   ],
   "source": [
    "tmp_b.shape"
   ]
  },
  {
   "cell_type": "code",
   "execution_count": null,
   "metadata": {},
   "outputs": [],
   "source": []
  }
 ],
 "metadata": {
  "kernelspec": {
   "display_name": "Python 3",
   "language": "python",
   "name": "python3"
  },
  "language_info": {
   "codemirror_mode": {
    "name": "ipython",
    "version": 3
   },
   "file_extension": ".py",
   "mimetype": "text/x-python",
   "name": "python",
   "nbconvert_exporter": "python",
   "pygments_lexer": "ipython3",
   "version": "3.8.3"
  }
 },
 "nbformat": 4,
 "nbformat_minor": 4
}
